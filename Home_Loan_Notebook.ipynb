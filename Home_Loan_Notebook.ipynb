{
  "nbformat": 4,
  "nbformat_minor": 0,
  "metadata": {
    "colab": {
      "name": "Home Loan Notebook.ipynb",
      "provenance": [],
      "authorship_tag": "ABX9TyMTUNDwVxCfbZiFhwLdH1zx",
      "include_colab_link": true
    },
    "kernelspec": {
      "name": "python3",
      "display_name": "Python 3"
    },
    "language_info": {
      "name": "python"
    }
  },
  "cells": [
    {
      "cell_type": "markdown",
      "metadata": {
        "id": "view-in-github",
        "colab_type": "text"
      },
      "source": [
        "<a href=\"https://colab.research.google.com/github/ajeetsandela/Home-Loan-Sanction-Prediction/blob/main/Home_Loan_Notebook.ipynb\" target=\"_parent\"><img src=\"https://colab.research.google.com/assets/colab-badge.svg\" alt=\"Open In Colab\"/></a>"
      ]
    },
    {
      "cell_type": "code",
      "metadata": {
        "colab": {
          "resources": {
            "http://localhost:8080/nbextensions/google.colab/files.js": {
              "data": "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",
              "ok": true,
              "headers": [
                [
                  "content-type",
                  "application/javascript"
                ]
              ],
              "status": 200,
              "status_text": ""
            }
          },
          "base_uri": "https://localhost:8080/",
          "height": 72
        },
        "id": "vET0QKVCYr2f",
        "outputId": "3731fdca-1bb4-4acd-88e1-2fda9da80e19"
      },
      "source": [
        "#Import dataset from Local to Google Colab\n",
        "from google.colab import files\n",
        "uploaded=files.upload()"
      ],
      "execution_count": 1,
      "outputs": [
        {
          "output_type": "display_data",
          "data": {
            "text/html": [
              "\n",
              "     <input type=\"file\" id=\"files-88b1083f-c025-43bd-a811-4cefdb74f75e\" name=\"files[]\" multiple disabled\n",
              "        style=\"border:none\" />\n",
              "     <output id=\"result-88b1083f-c025-43bd-a811-4cefdb74f75e\">\n",
              "      Upload widget is only available when the cell has been executed in the\n",
              "      current browser session. Please rerun this cell to enable.\n",
              "      </output>\n",
              "      <script src=\"/nbextensions/google.colab/files.js\"></script> "
            ],
            "text/plain": [
              "<IPython.core.display.HTML object>"
            ]
          },
          "metadata": {
            "tags": []
          }
        },
        {
          "output_type": "stream",
          "text": [
            "Saving train.csv to train.csv\n"
          ],
          "name": "stdout"
        }
      ]
    },
    {
      "cell_type": "code",
      "metadata": {
        "colab": {
          "base_uri": "https://localhost:8080/"
        },
        "id": "ITPdacjWaBk4",
        "outputId": "dddccfa1-2a90-4528-ce11-ca213f2e1e3b"
      },
      "source": [
        "#Storig dataset into dataframe and finding its shape\n",
        "import pandas as panda\n",
        "import io\n",
        "loan_training_dataset=panda.read_csv(io.BytesIO(uploaded['train.csv']))\n",
        "loan_training_dataset.shape"
      ],
      "execution_count": 2,
      "outputs": [
        {
          "output_type": "execute_result",
          "data": {
            "text/plain": [
              "(30000, 24)"
            ]
          },
          "metadata": {
            "tags": []
          },
          "execution_count": 2
        }
      ]
    },
    {
      "cell_type": "code",
      "metadata": {
        "colab": {
          "base_uri": "https://localhost:8080/"
        },
        "id": "Ka8SXr5Ea3Gu",
        "outputId": "c4b73d23-d307-4729-ae4d-dfabc22c7587"
      },
      "source": [
        "#Retrieve Dataset Columns \n",
        "loan_training_dataset.columns"
      ],
      "execution_count": 3,
      "outputs": [
        {
          "output_type": "execute_result",
          "data": {
            "text/plain": [
              "Index(['Customer ID', 'Name', 'Gender', 'Age', 'Income (USD)',\n",
              "       'Income Stability', 'Profession', 'Type of Employment', 'Location',\n",
              "       'Loan Amount Request (USD)', 'Current Loan Expenses (USD)',\n",
              "       'Expense Type 1', 'Expense Type 2', 'Dependents', 'Credit Score',\n",
              "       'No. of Defaults', 'Has Active Credit Card', 'Property ID',\n",
              "       'Property Age', 'Property Type', 'Property Location', 'Co-Applicant',\n",
              "       'Property Price', 'Loan Sanction Amount (USD)'],\n",
              "      dtype='object')"
            ]
          },
          "metadata": {
            "tags": []
          },
          "execution_count": 3
        }
      ]
    },
    {
      "cell_type": "code",
      "metadata": {
        "colab": {
          "base_uri": "https://localhost:8080/"
        },
        "id": "BbE3zeYZbDp1",
        "outputId": "fce739b0-cf16-4aa9-cb74-ab799a6f7701"
      },
      "source": [
        "#Replace spaces in the column name  with the underscore\n",
        "loan_training_dataset.columns=loan_training_dataset.columns.str.replace(' ','_')\n",
        "#Fetch the updated column names\n",
        "loan_training_dataset.columns"
      ],
      "execution_count": 4,
      "outputs": [
        {
          "output_type": "execute_result",
          "data": {
            "text/plain": [
              "Index(['Customer_ID', 'Name', 'Gender', 'Age', 'Income_(USD)',\n",
              "       'Income_Stability', 'Profession', 'Type_of_Employment', 'Location',\n",
              "       'Loan_Amount_Request_(USD)', 'Current_Loan_Expenses_(USD)',\n",
              "       'Expense_Type_1', 'Expense_Type_2', 'Dependents', 'Credit_Score',\n",
              "       'No._of_Defaults', 'Has_Active_Credit_Card', 'Property_ID',\n",
              "       'Property_Age', 'Property_Type', 'Property_Location', 'Co-Applicant',\n",
              "       'Property_Price', 'Loan_Sanction_Amount_(USD)'],\n",
              "      dtype='object')"
            ]
          },
          "metadata": {
            "tags": []
          },
          "execution_count": 4
        }
      ]
    },
    {
      "cell_type": "code",
      "metadata": {
        "colab": {
          "base_uri": "https://localhost:8080/",
          "height": 309
        },
        "id": "xrbNsmJAb0bW",
        "outputId": "b6c24374-fbda-4b9d-f475-55c5e749468b"
      },
      "source": [
        "#Retrieve first five rows of the dataset\n",
        "loan_training_dataset.head()"
      ],
      "execution_count": 5,
      "outputs": [
        {
          "output_type": "execute_result",
          "data": {
            "text/html": [
              "<div>\n",
              "<style scoped>\n",
              "    .dataframe tbody tr th:only-of-type {\n",
              "        vertical-align: middle;\n",
              "    }\n",
              "\n",
              "    .dataframe tbody tr th {\n",
              "        vertical-align: top;\n",
              "    }\n",
              "\n",
              "    .dataframe thead th {\n",
              "        text-align: right;\n",
              "    }\n",
              "</style>\n",
              "<table border=\"1\" class=\"dataframe\">\n",
              "  <thead>\n",
              "    <tr style=\"text-align: right;\">\n",
              "      <th></th>\n",
              "      <th>Customer_ID</th>\n",
              "      <th>Name</th>\n",
              "      <th>Gender</th>\n",
              "      <th>Age</th>\n",
              "      <th>Income_(USD)</th>\n",
              "      <th>Income_Stability</th>\n",
              "      <th>Profession</th>\n",
              "      <th>Type_of_Employment</th>\n",
              "      <th>Location</th>\n",
              "      <th>Loan_Amount_Request_(USD)</th>\n",
              "      <th>Current_Loan_Expenses_(USD)</th>\n",
              "      <th>Expense_Type_1</th>\n",
              "      <th>Expense_Type_2</th>\n",
              "      <th>Dependents</th>\n",
              "      <th>Credit_Score</th>\n",
              "      <th>No._of_Defaults</th>\n",
              "      <th>Has_Active_Credit_Card</th>\n",
              "      <th>Property_ID</th>\n",
              "      <th>Property_Age</th>\n",
              "      <th>Property_Type</th>\n",
              "      <th>Property_Location</th>\n",
              "      <th>Co-Applicant</th>\n",
              "      <th>Property_Price</th>\n",
              "      <th>Loan_Sanction_Amount_(USD)</th>\n",
              "    </tr>\n",
              "  </thead>\n",
              "  <tbody>\n",
              "    <tr>\n",
              "      <th>0</th>\n",
              "      <td>C-36995</td>\n",
              "      <td>Frederica Shealy</td>\n",
              "      <td>F</td>\n",
              "      <td>56</td>\n",
              "      <td>1933.05</td>\n",
              "      <td>Low</td>\n",
              "      <td>Working</td>\n",
              "      <td>Sales staff</td>\n",
              "      <td>Semi-Urban</td>\n",
              "      <td>72809.58</td>\n",
              "      <td>241.08</td>\n",
              "      <td>N</td>\n",
              "      <td>N</td>\n",
              "      <td>3.0</td>\n",
              "      <td>809.44</td>\n",
              "      <td>0</td>\n",
              "      <td>NaN</td>\n",
              "      <td>746</td>\n",
              "      <td>1933.05</td>\n",
              "      <td>4</td>\n",
              "      <td>Rural</td>\n",
              "      <td>1</td>\n",
              "      <td>119933.46</td>\n",
              "      <td>54607.18</td>\n",
              "    </tr>\n",
              "    <tr>\n",
              "      <th>1</th>\n",
              "      <td>C-33999</td>\n",
              "      <td>America Calderone</td>\n",
              "      <td>M</td>\n",
              "      <td>32</td>\n",
              "      <td>4952.91</td>\n",
              "      <td>Low</td>\n",
              "      <td>Working</td>\n",
              "      <td>NaN</td>\n",
              "      <td>Semi-Urban</td>\n",
              "      <td>46837.47</td>\n",
              "      <td>495.81</td>\n",
              "      <td>N</td>\n",
              "      <td>Y</td>\n",
              "      <td>1.0</td>\n",
              "      <td>780.40</td>\n",
              "      <td>0</td>\n",
              "      <td>Unpossessed</td>\n",
              "      <td>608</td>\n",
              "      <td>4952.91</td>\n",
              "      <td>2</td>\n",
              "      <td>Rural</td>\n",
              "      <td>1</td>\n",
              "      <td>54791.00</td>\n",
              "      <td>37469.98</td>\n",
              "    </tr>\n",
              "    <tr>\n",
              "      <th>2</th>\n",
              "      <td>C-3770</td>\n",
              "      <td>Rosetta Verne</td>\n",
              "      <td>F</td>\n",
              "      <td>65</td>\n",
              "      <td>988.19</td>\n",
              "      <td>High</td>\n",
              "      <td>Pensioner</td>\n",
              "      <td>NaN</td>\n",
              "      <td>Semi-Urban</td>\n",
              "      <td>45593.04</td>\n",
              "      <td>171.95</td>\n",
              "      <td>N</td>\n",
              "      <td>Y</td>\n",
              "      <td>1.0</td>\n",
              "      <td>833.15</td>\n",
              "      <td>0</td>\n",
              "      <td>Unpossessed</td>\n",
              "      <td>546</td>\n",
              "      <td>988.19</td>\n",
              "      <td>2</td>\n",
              "      <td>Urban</td>\n",
              "      <td>0</td>\n",
              "      <td>72440.58</td>\n",
              "      <td>36474.43</td>\n",
              "    </tr>\n",
              "    <tr>\n",
              "      <th>3</th>\n",
              "      <td>C-26480</td>\n",
              "      <td>Zoe Chitty</td>\n",
              "      <td>F</td>\n",
              "      <td>65</td>\n",
              "      <td>NaN</td>\n",
              "      <td>High</td>\n",
              "      <td>Pensioner</td>\n",
              "      <td>NaN</td>\n",
              "      <td>Rural</td>\n",
              "      <td>80057.92</td>\n",
              "      <td>298.54</td>\n",
              "      <td>N</td>\n",
              "      <td>Y</td>\n",
              "      <td>2.0</td>\n",
              "      <td>832.70</td>\n",
              "      <td>1</td>\n",
              "      <td>Unpossessed</td>\n",
              "      <td>890</td>\n",
              "      <td>NaN</td>\n",
              "      <td>2</td>\n",
              "      <td>Semi-Urban</td>\n",
              "      <td>1</td>\n",
              "      <td>121441.51</td>\n",
              "      <td>56040.54</td>\n",
              "    </tr>\n",
              "    <tr>\n",
              "      <th>4</th>\n",
              "      <td>C-23459</td>\n",
              "      <td>Afton Venema</td>\n",
              "      <td>F</td>\n",
              "      <td>31</td>\n",
              "      <td>2614.77</td>\n",
              "      <td>Low</td>\n",
              "      <td>Working</td>\n",
              "      <td>High skill tech staff</td>\n",
              "      <td>Semi-Urban</td>\n",
              "      <td>113858.89</td>\n",
              "      <td>491.41</td>\n",
              "      <td>N</td>\n",
              "      <td>Y</td>\n",
              "      <td>NaN</td>\n",
              "      <td>745.55</td>\n",
              "      <td>1</td>\n",
              "      <td>Active</td>\n",
              "      <td>715</td>\n",
              "      <td>2614.77</td>\n",
              "      <td>4</td>\n",
              "      <td>Semi-Urban</td>\n",
              "      <td>1</td>\n",
              "      <td>208567.91</td>\n",
              "      <td>74008.28</td>\n",
              "    </tr>\n",
              "  </tbody>\n",
              "</table>\n",
              "</div>"
            ],
            "text/plain": [
              "  Customer_ID               Name  ... Property_Price  Loan_Sanction_Amount_(USD)\n",
              "0     C-36995   Frederica Shealy  ...      119933.46                    54607.18\n",
              "1     C-33999  America Calderone  ...       54791.00                    37469.98\n",
              "2      C-3770      Rosetta Verne  ...       72440.58                    36474.43\n",
              "3     C-26480         Zoe Chitty  ...      121441.51                    56040.54\n",
              "4     C-23459       Afton Venema  ...      208567.91                    74008.28\n",
              "\n",
              "[5 rows x 24 columns]"
            ]
          },
          "metadata": {
            "tags": []
          },
          "execution_count": 5
        }
      ]
    },
    {
      "cell_type": "markdown",
      "metadata": {
        "id": "PZxsafmoaCHQ"
      },
      "source": [
        " **`Detecting,Analyzing and Treating Missing Values`**"
      ]
    },
    {
      "cell_type": "code",
      "metadata": {
        "colab": {
          "base_uri": "https://localhost:8080/"
        },
        "id": "uptFVH4Mb9Z9",
        "outputId": "d10fcb91-4e54-483d-a57e-588a7fc7c2d5"
      },
      "source": [
        "#Finding the number of null values in each column\n",
        "loan_training_dataset.isnull().sum()"
      ],
      "execution_count": 6,
      "outputs": [
        {
          "output_type": "execute_result",
          "data": {
            "text/plain": [
              "Customer_ID                       0\n",
              "Name                              0\n",
              "Gender                           53\n",
              "Age                               0\n",
              "Income_(USD)                   4576\n",
              "Income_Stability               1683\n",
              "Profession                        0\n",
              "Type_of_Employment             7270\n",
              "Location                          0\n",
              "Loan_Amount_Request_(USD)         0\n",
              "Current_Loan_Expenses_(USD)     172\n",
              "Expense_Type_1                    0\n",
              "Expense_Type_2                    0\n",
              "Dependents                     2493\n",
              "Credit_Score                   1703\n",
              "No._of_Defaults                   0\n",
              "Has_Active_Credit_Card         1566\n",
              "Property_ID                       0\n",
              "Property_Age                   4850\n",
              "Property_Type                     0\n",
              "Property_Location               356\n",
              "Co-Applicant                      0\n",
              "Property_Price                    0\n",
              "Loan_Sanction_Amount_(USD)      340\n",
              "dtype: int64"
            ]
          },
          "metadata": {
            "tags": []
          },
          "execution_count": 6
        }
      ]
    },
    {
      "cell_type": "code",
      "metadata": {
        "colab": {
          "base_uri": "https://localhost:8080/"
        },
        "id": "Godkw_a-cv3_",
        "outputId": "d75575d0-24d3-4f11-d770-e552699c3500"
      },
      "source": [
        "#Finding the percentage of missingness\n",
        "loan_training_dataset.isnull().mean()*100"
      ],
      "execution_count": 7,
      "outputs": [
        {
          "output_type": "execute_result",
          "data": {
            "text/plain": [
              "Customer_ID                     0.000000\n",
              "Name                            0.000000\n",
              "Gender                          0.176667\n",
              "Age                             0.000000\n",
              "Income_(USD)                   15.253333\n",
              "Income_Stability                5.610000\n",
              "Profession                      0.000000\n",
              "Type_of_Employment             24.233333\n",
              "Location                        0.000000\n",
              "Loan_Amount_Request_(USD)       0.000000\n",
              "Current_Loan_Expenses_(USD)     0.573333\n",
              "Expense_Type_1                  0.000000\n",
              "Expense_Type_2                  0.000000\n",
              "Dependents                      8.310000\n",
              "Credit_Score                    5.676667\n",
              "No._of_Defaults                 0.000000\n",
              "Has_Active_Credit_Card          5.220000\n",
              "Property_ID                     0.000000\n",
              "Property_Age                   16.166667\n",
              "Property_Type                   0.000000\n",
              "Property_Location               1.186667\n",
              "Co-Applicant                    0.000000\n",
              "Property_Price                  0.000000\n",
              "Loan_Sanction_Amount_(USD)      1.133333\n",
              "dtype: float64"
            ]
          },
          "metadata": {
            "tags": []
          },
          "execution_count": 7
        }
      ]
    },
    {
      "cell_type": "code",
      "metadata": {
        "colab": {
          "base_uri": "https://localhost:8080/",
          "height": 825
        },
        "id": "z6UUQKLXdRUd",
        "outputId": "0b01dfe9-d6cc-4b83-e6e4-a850e9b4c11c"
      },
      "source": [
        "#Visualization of missingness using missingno package \n",
        "import missingno as msno\n",
        "msno.bar(loan_training_dataset)"
      ],
      "execution_count": 8,
      "outputs": [
        {
          "output_type": "execute_result",
          "data": {
            "text/plain": [
              "<matplotlib.axes._subplots.AxesSubplot at 0x7fa2129f1610>"
            ]
          },
          "metadata": {
            "tags": []
          },
          "execution_count": 8
        },
        {
          "output_type": "display_data",
          "data": {
            "image/png": "[encoded data removed]",
            "text/plain": [
              "<Figure size 1800x720 with 3 Axes>"
            ]
          },
          "metadata": {
            "tags": [],
            "needs_background": "light"
          }
        }
      ]
    },
    {
      "cell_type": "code",
      "metadata": {
        "colab": {
          "base_uri": "https://localhost:8080/",
          "height": 795
        },
        "id": "kt3pnKOnhm9l",
        "outputId": "d9efda5c-55b8-4c58-99dd-40e13957d0a8"
      },
      "source": [
        "#Nullity Matrix \n",
        "msno.matrix(loan_training_dataset)\n",
        "#Observations\n",
        "#-->From spark line we can observe that 17 columns have minimum nullity and remaining 7 columns have maximum nullity out of all 24 columns"
      ],
      "execution_count": 9,
      "outputs": [
        {
          "output_type": "execute_result",
          "data": {
            "text/plain": [
              "<matplotlib.axes._subplots.AxesSubplot at 0x7fa208293510>"
            ]
          },
          "metadata": {
            "tags": []
          },
          "execution_count": 9
        },
        {
          "output_type": "display_data",
          "data": {
            "image/png": "[encoded data removed]",
            "text/plain": [
              "<Figure size 1800x720 with 2 Axes>"
            ]
          },
          "metadata": {
            "tags": [],
            "needs_background": "light"
          }
        }
      ]
    },
    {
      "cell_type": "code",
      "metadata": {
        "colab": {
          "base_uri": "https://localhost:8080/",
          "height": 897
        },
        "id": "GEFu9-EgoKD3",
        "outputId": "486ad5a2-4f7a-4860-9bc8-575e0908cf9b"
      },
      "source": [
        "#Finding whether missingness have some pattern or not?\n",
        "#-->Finding correlation between the columns\n",
        "msno.heatmap(loan_training_dataset)\n",
        "#Observations\n",
        "#We are plotting heatmap to show the nullity correlation between the various columns\n",
        "#-->Property_Age and Income(USD) have stronger correlation means if a value in one column missing then there is high chance of missing in another column as well\n",
        "#-->Strength of Correlaltion with 0.1 has weaker relationship so value missing in one variable is very less likely to miss in another column\n",
        "#-->Strength of Correlation with 0.00 states that there is no relationship or any kind of pattern of missingess between the columns\n",
        "#Understanding and Next steps:\n",
        "#columns with 0.00 has non linear relationship so we can ignore those columns\n",
        "#columns with 0.1 has very much weak realtionship so working on these type of columns are also unimportant\n",
        "#Property_Age and Income(USD) have stronger nullity relationship because of correlation coefficient(0.9 approx) "
      ],
      "execution_count": 10,
      "outputs": [
        {
          "output_type": "execute_result",
          "data": {
            "text/plain": [
              "<matplotlib.axes._subplots.AxesSubplot at 0x7fa208042f90>"
            ]
          },
          "metadata": {
            "tags": []
          },
          "execution_count": 10
        },
        {
          "output_type": "display_data",
          "data": {
            "image/png": "[encoded data removed]",
            "text/plain": [
              "<Figure size 1440x864 with 2 Axes>"
            ]
          },
          "metadata": {
            "tags": [],
            "needs_background": "light"
          }
        }
      ]
    },
    {
      "cell_type": "code",
      "metadata": {
        "colab": {
          "base_uri": "https://localhost:8080/",
          "height": 784
        },
        "id": "ZAwttryINrlZ",
        "outputId": "157e5a0c-82a4-46f4-ae50-d9534359c4b6"
      },
      "source": [
        "#Another method to analyze the missingness of a dataset\n",
        "msno.dendrogram(loan_training_dataset)"
      ],
      "execution_count": 11,
      "outputs": [
        {
          "output_type": "execute_result",
          "data": {
            "text/plain": [
              "<matplotlib.axes._subplots.AxesSubplot at 0x7fa212807810>"
            ]
          },
          "metadata": {
            "tags": []
          },
          "execution_count": 11
        },
        {
          "output_type": "display_data",
          "data": {
            "image/png": "[encoded data removed]",
            "text/plain": [
              "<Figure size 1800x720 with 1 Axes>"
            ]
          },
          "metadata": {
            "tags": [],
            "needs_background": "light"
          }
        }
      ]
    },
    {
      "cell_type": "code",
      "metadata": {
        "colab": {
          "base_uri": "https://localhost:8080/"
        },
        "id": "PZUhKGQQeBS4",
        "outputId": "e7b84236-a883-4000-ab2f-b5fa27628b3c"
      },
      "source": [
        "#Now performing Deletions in the dataset\n",
        "loan_training_dataset.isnull().sum()\n",
        "#As we can see Gender,Current_Loan_Expenses_(USD),Property_Location,Loan_Sanction_Amount_(USD) has very less missing values so performing listwise deletions on them(Deleting complete rows)\n",
        "#By deleting all null values from above columns we are deleting around 921 rows approximately out of 30000 rows which consitutes around 3%(Also they seem like missing completely at random category)\n",
        "#Leaving null values which have higher count as it is(pair wise deletion)"
      ],
      "execution_count": 12,
      "outputs": [
        {
          "output_type": "execute_result",
          "data": {
            "text/plain": [
              "Customer_ID                       0\n",
              "Name                              0\n",
              "Gender                           53\n",
              "Age                               0\n",
              "Income_(USD)                   4576\n",
              "Income_Stability               1683\n",
              "Profession                        0\n",
              "Type_of_Employment             7270\n",
              "Location                          0\n",
              "Loan_Amount_Request_(USD)         0\n",
              "Current_Loan_Expenses_(USD)     172\n",
              "Expense_Type_1                    0\n",
              "Expense_Type_2                    0\n",
              "Dependents                     2493\n",
              "Credit_Score                   1703\n",
              "No._of_Defaults                   0\n",
              "Has_Active_Credit_Card         1566\n",
              "Property_ID                       0\n",
              "Property_Age                   4850\n",
              "Property_Type                     0\n",
              "Property_Location               356\n",
              "Co-Applicant                      0\n",
              "Property_Price                    0\n",
              "Loan_Sanction_Amount_(USD)      340\n",
              "dtype: int64"
            ]
          },
          "metadata": {
            "tags": []
          },
          "execution_count": 12
        }
      ]
    },
    {
      "cell_type": "code",
      "metadata": {
        "id": "DjLPeH-ueQbW"
      },
      "source": [
        "#Performing lsit wise deletion operation on the above mentioned columns\n",
        "loan_training_dataset.dropna(subset=[\"Gender\",\"Current_Loan_Expenses_(USD)\",\"Property_Location\",\"Loan_Sanction_Amount_(USD)\"],how=\"any\",inplace=True)"
      ],
      "execution_count": 13,
      "outputs": []
    },
    {
      "cell_type": "code",
      "metadata": {
        "colab": {
          "base_uri": "https://localhost:8080/"
        },
        "id": "ppNSElcng2y-",
        "outputId": "af4a0edb-5e68-46f6-86c6-fc398e70e980"
      },
      "source": [
        "#Checking whether missing value rows have been deleted or not\n",
        "loan_training_dataset.isnull().sum()"
      ],
      "execution_count": 14,
      "outputs": [
        {
          "output_type": "execute_result",
          "data": {
            "text/plain": [
              "Customer_ID                       0\n",
              "Name                              0\n",
              "Gender                            0\n",
              "Age                               0\n",
              "Income_(USD)                   4358\n",
              "Income_Stability               1601\n",
              "Profession                        0\n",
              "Type_of_Employment             7047\n",
              "Location                          0\n",
              "Loan_Amount_Request_(USD)         0\n",
              "Current_Loan_Expenses_(USD)       0\n",
              "Expense_Type_1                    0\n",
              "Expense_Type_2                    0\n",
              "Dependents                     2368\n",
              "Credit_Score                   1621\n",
              "No._of_Defaults                   0\n",
              "Has_Active_Credit_Card         1512\n",
              "Property_ID                       0\n",
              "Property_Age                   4614\n",
              "Property_Type                     0\n",
              "Property_Location                 0\n",
              "Co-Applicant                      0\n",
              "Property_Price                    0\n",
              "Loan_Sanction_Amount_(USD)        0\n",
              "dtype: int64"
            ]
          },
          "metadata": {
            "tags": []
          },
          "execution_count": 14
        }
      ]
    },
    {
      "cell_type": "code",
      "metadata": {
        "colab": {
          "base_uri": "https://localhost:8080/"
        },
        "id": "N8XM6CfPhSBQ",
        "outputId": "a1c42857-47df-4c10-fbff-92326655d52b"
      },
      "source": [
        "#shape of dataset\n",
        "loan_training_dataset.shape"
      ],
      "execution_count": 15,
      "outputs": [
        {
          "output_type": "execute_result",
          "data": {
            "text/plain": [
              "(29097, 24)"
            ]
          },
          "metadata": {
            "tags": []
          },
          "execution_count": 15
        }
      ]
    },
    {
      "cell_type": "code",
      "metadata": {
        "id": "TrquYaV9JOpA"
      },
      "source": [
        "#dropping all missing value rows for the baseline case\n",
        "loan_training_dataset_complete_case=loan_training_dataset.copy(deep=True)\n",
        "loan_training_dataset_complete_case.dropna(subset=[\"Income_(USD)\",\"Income_Stability\",\"Type_of_Employment\",\"Dependents\",\"Credit_Score\",\"Credit_Score\",\"Has_Active_Credit_Card\",\"Property_Age\"],how=\"any\",inplace=True)"
      ],
      "execution_count": 16,
      "outputs": []
    },
    {
      "cell_type": "code",
      "metadata": {
        "colab": {
          "base_uri": "https://localhost:8080/"
        },
        "id": "GLvJro6lJv1C",
        "outputId": "a189f0c9-a6d4-4c53-b83a-89ebf0c3a301"
      },
      "source": [
        "#checking whether the base line is up to the mark or not\n",
        "loan_training_dataset_complete_case.isnull().sum()"
      ],
      "execution_count": 17,
      "outputs": [
        {
          "output_type": "execute_result",
          "data": {
            "text/plain": [
              "Customer_ID                    0\n",
              "Name                           0\n",
              "Gender                         0\n",
              "Age                            0\n",
              "Income_(USD)                   0\n",
              "Income_Stability               0\n",
              "Profession                     0\n",
              "Type_of_Employment             0\n",
              "Location                       0\n",
              "Loan_Amount_Request_(USD)      0\n",
              "Current_Loan_Expenses_(USD)    0\n",
              "Expense_Type_1                 0\n",
              "Expense_Type_2                 0\n",
              "Dependents                     0\n",
              "Credit_Score                   0\n",
              "No._of_Defaults                0\n",
              "Has_Active_Credit_Card         0\n",
              "Property_ID                    0\n",
              "Property_Age                   0\n",
              "Property_Type                  0\n",
              "Property_Location              0\n",
              "Co-Applicant                   0\n",
              "Property_Price                 0\n",
              "Loan_Sanction_Amount_(USD)     0\n",
              "dtype: int64"
            ]
          },
          "metadata": {
            "tags": []
          },
          "execution_count": 17
        }
      ]
    },
    {
      "cell_type": "code",
      "metadata": {
        "colab": {
          "base_uri": "https://localhost:8080/"
        },
        "id": "AfDs4YOFNJP8",
        "outputId": "c0ac27fe-2c13-4e5b-b331-ef215a3df12a"
      },
      "source": [
        "loan_training_dataset.dtypes"
      ],
      "execution_count": 18,
      "outputs": [
        {
          "output_type": "execute_result",
          "data": {
            "text/plain": [
              "Customer_ID                     object\n",
              "Name                            object\n",
              "Gender                          object\n",
              "Age                              int64\n",
              "Income_(USD)                   float64\n",
              "Income_Stability                object\n",
              "Profession                      object\n",
              "Type_of_Employment              object\n",
              "Location                        object\n",
              "Loan_Amount_Request_(USD)      float64\n",
              "Current_Loan_Expenses_(USD)    float64\n",
              "Expense_Type_1                  object\n",
              "Expense_Type_2                  object\n",
              "Dependents                     float64\n",
              "Credit_Score                   float64\n",
              "No._of_Defaults                  int64\n",
              "Has_Active_Credit_Card          object\n",
              "Property_ID                      int64\n",
              "Property_Age                   float64\n",
              "Property_Type                    int64\n",
              "Property_Location               object\n",
              "Co-Applicant                     int64\n",
              "Property_Price                 float64\n",
              "Loan_Sanction_Amount_(USD)     float64\n",
              "dtype: object"
            ]
          },
          "metadata": {
            "tags": []
          },
          "execution_count": 18
        }
      ]
    },
    {
      "cell_type": "code",
      "metadata": {
        "id": "X4vXYHxfNRVn"
      },
      "source": [
        "#Separating Categorical and Numerical data as different dataframes\n",
        "import numpy as np\n",
        "loan_training_dataset_numeric = loan_training_dataset.select_dtypes(include=[np.number])\n",
        "loan_training_dataset_categorical = loan_training_dataset.select_dtypes(exclude=[np.number])"
      ],
      "execution_count": 19,
      "outputs": []
    },
    {
      "cell_type": "code",
      "metadata": {
        "colab": {
          "base_uri": "https://localhost:8080/",
          "height": 419
        },
        "id": "_xaIaViVTveV",
        "outputId": "ac6ee0a3-f306-433c-d667-a91ccbb07e65"
      },
      "source": [
        "loan_training_dataset_categorical"
      ],
      "execution_count": 20,
      "outputs": [
        {
          "output_type": "execute_result",
          "data": {
            "text/html": [
              "<div>\n",
              "<style scoped>\n",
              "    .dataframe tbody tr th:only-of-type {\n",
              "        vertical-align: middle;\n",
              "    }\n",
              "\n",
              "    .dataframe tbody tr th {\n",
              "        vertical-align: top;\n",
              "    }\n",
              "\n",
              "    .dataframe thead th {\n",
              "        text-align: right;\n",
              "    }\n",
              "</style>\n",
              "<table border=\"1\" class=\"dataframe\">\n",
              "  <thead>\n",
              "    <tr style=\"text-align: right;\">\n",
              "      <th></th>\n",
              "      <th>Customer_ID</th>\n",
              "      <th>Name</th>\n",
              "      <th>Gender</th>\n",
              "      <th>Income_Stability</th>\n",
              "      <th>Profession</th>\n",
              "      <th>Type_of_Employment</th>\n",
              "      <th>Location</th>\n",
              "      <th>Expense_Type_1</th>\n",
              "      <th>Expense_Type_2</th>\n",
              "      <th>Has_Active_Credit_Card</th>\n",
              "      <th>Property_Location</th>\n",
              "    </tr>\n",
              "  </thead>\n",
              "  <tbody>\n",
              "    <tr>\n",
              "      <th>0</th>\n",
              "      <td>C-36995</td>\n",
              "      <td>Frederica Shealy</td>\n",
              "      <td>F</td>\n",
              "      <td>Low</td>\n",
              "      <td>Working</td>\n",
              "      <td>Sales staff</td>\n",
              "      <td>Semi-Urban</td>\n",
              "      <td>N</td>\n",
              "      <td>N</td>\n",
              "      <td>NaN</td>\n",
              "      <td>Rural</td>\n",
              "    </tr>\n",
              "    <tr>\n",
              "      <th>1</th>\n",
              "      <td>C-33999</td>\n",
              "      <td>America Calderone</td>\n",
              "      <td>M</td>\n",
              "      <td>Low</td>\n",
              "      <td>Working</td>\n",
              "      <td>NaN</td>\n",
              "      <td>Semi-Urban</td>\n",
              "      <td>N</td>\n",
              "      <td>Y</td>\n",
              "      <td>Unpossessed</td>\n",
              "      <td>Rural</td>\n",
              "    </tr>\n",
              "    <tr>\n",
              "      <th>2</th>\n",
              "      <td>C-3770</td>\n",
              "      <td>Rosetta Verne</td>\n",
              "      <td>F</td>\n",
              "      <td>High</td>\n",
              "      <td>Pensioner</td>\n",
              "      <td>NaN</td>\n",
              "      <td>Semi-Urban</td>\n",
              "      <td>N</td>\n",
              "      <td>Y</td>\n",
              "      <td>Unpossessed</td>\n",
              "      <td>Urban</td>\n",
              "    </tr>\n",
              "    <tr>\n",
              "      <th>3</th>\n",
              "      <td>C-26480</td>\n",
              "      <td>Zoe Chitty</td>\n",
              "      <td>F</td>\n",
              "      <td>High</td>\n",
              "      <td>Pensioner</td>\n",
              "      <td>NaN</td>\n",
              "      <td>Rural</td>\n",
              "      <td>N</td>\n",
              "      <td>Y</td>\n",
              "      <td>Unpossessed</td>\n",
              "      <td>Semi-Urban</td>\n",
              "    </tr>\n",
              "    <tr>\n",
              "      <th>4</th>\n",
              "      <td>C-23459</td>\n",
              "      <td>Afton Venema</td>\n",
              "      <td>F</td>\n",
              "      <td>Low</td>\n",
              "      <td>Working</td>\n",
              "      <td>High skill tech staff</td>\n",
              "      <td>Semi-Urban</td>\n",
              "      <td>N</td>\n",
              "      <td>Y</td>\n",
              "      <td>Active</td>\n",
              "      <td>Semi-Urban</td>\n",
              "    </tr>\n",
              "    <tr>\n",
              "      <th>...</th>\n",
              "      <td>...</td>\n",
              "      <td>...</td>\n",
              "      <td>...</td>\n",
              "      <td>...</td>\n",
              "      <td>...</td>\n",
              "      <td>...</td>\n",
              "      <td>...</td>\n",
              "      <td>...</td>\n",
              "      <td>...</td>\n",
              "      <td>...</td>\n",
              "      <td>...</td>\n",
              "    </tr>\n",
              "    <tr>\n",
              "      <th>29995</th>\n",
              "      <td>C-43723</td>\n",
              "      <td>Angelyn Clevenger</td>\n",
              "      <td>M</td>\n",
              "      <td>Low</td>\n",
              "      <td>Commercial associate</td>\n",
              "      <td>Managers</td>\n",
              "      <td>Urban</td>\n",
              "      <td>Y</td>\n",
              "      <td>Y</td>\n",
              "      <td>Unpossessed</td>\n",
              "      <td>Urban</td>\n",
              "    </tr>\n",
              "    <tr>\n",
              "      <th>29996</th>\n",
              "      <td>C-32511</td>\n",
              "      <td>Silas Slaugh</td>\n",
              "      <td>M</td>\n",
              "      <td>Low</td>\n",
              "      <td>Working</td>\n",
              "      <td>Laborers</td>\n",
              "      <td>Semi-Urban</td>\n",
              "      <td>N</td>\n",
              "      <td>N</td>\n",
              "      <td>Inactive</td>\n",
              "      <td>Urban</td>\n",
              "    </tr>\n",
              "    <tr>\n",
              "      <th>29997</th>\n",
              "      <td>C-5192</td>\n",
              "      <td>Carmelo Lone</td>\n",
              "      <td>F</td>\n",
              "      <td>Low</td>\n",
              "      <td>Working</td>\n",
              "      <td>Sales staff</td>\n",
              "      <td>Urban</td>\n",
              "      <td>N</td>\n",
              "      <td>Y</td>\n",
              "      <td>Active</td>\n",
              "      <td>Rural</td>\n",
              "    </tr>\n",
              "    <tr>\n",
              "      <th>29998</th>\n",
              "      <td>C-12172</td>\n",
              "      <td>Carolann Osby</td>\n",
              "      <td>M</td>\n",
              "      <td>Low</td>\n",
              "      <td>Working</td>\n",
              "      <td>Security staff</td>\n",
              "      <td>Semi-Urban</td>\n",
              "      <td>N</td>\n",
              "      <td>Y</td>\n",
              "      <td>Unpossessed</td>\n",
              "      <td>Urban</td>\n",
              "    </tr>\n",
              "    <tr>\n",
              "      <th>29999</th>\n",
              "      <td>C-33003</td>\n",
              "      <td>Bridget Garibaldi</td>\n",
              "      <td>F</td>\n",
              "      <td>High</td>\n",
              "      <td>Pensioner</td>\n",
              "      <td>NaN</td>\n",
              "      <td>Rural</td>\n",
              "      <td>N</td>\n",
              "      <td>Y</td>\n",
              "      <td>Active</td>\n",
              "      <td>Rural</td>\n",
              "    </tr>\n",
              "  </tbody>\n",
              "</table>\n",
              "<p>29097 rows × 11 columns</p>\n",
              "</div>"
            ],
            "text/plain": [
              "      Customer_ID               Name  ... Has_Active_Credit_Card Property_Location\n",
              "0         C-36995   Frederica Shealy  ...                    NaN             Rural\n",
              "1         C-33999  America Calderone  ...            Unpossessed             Rural\n",
              "2          C-3770      Rosetta Verne  ...            Unpossessed             Urban\n",
              "3         C-26480         Zoe Chitty  ...            Unpossessed        Semi-Urban\n",
              "4         C-23459       Afton Venema  ...                 Active        Semi-Urban\n",
              "...           ...                ...  ...                    ...               ...\n",
              "29995     C-43723  Angelyn Clevenger  ...            Unpossessed             Urban\n",
              "29996     C-32511       Silas Slaugh  ...               Inactive             Urban\n",
              "29997      C-5192       Carmelo Lone  ...                 Active             Rural\n",
              "29998     C-12172      Carolann Osby  ...            Unpossessed             Urban\n",
              "29999     C-33003  Bridget Garibaldi  ...                 Active             Rural\n",
              "\n",
              "[29097 rows x 11 columns]"
            ]
          },
          "metadata": {
            "tags": []
          },
          "execution_count": 20
        }
      ]
    },
    {
      "cell_type": "code",
      "metadata": {
        "colab": {
          "base_uri": "https://localhost:8080/",
          "height": 456
        },
        "id": "h_cGApV5T1Sq",
        "outputId": "f7705490-f05d-4193-c7dd-e71c1c3e1f06"
      },
      "source": [
        "loan_training_dataset_numeric"
      ],
      "execution_count": 21,
      "outputs": [
        {
          "output_type": "execute_result",
          "data": {
            "text/html": [
              "<div>\n",
              "<style scoped>\n",
              "    .dataframe tbody tr th:only-of-type {\n",
              "        vertical-align: middle;\n",
              "    }\n",
              "\n",
              "    .dataframe tbody tr th {\n",
              "        vertical-align: top;\n",
              "    }\n",
              "\n",
              "    .dataframe thead th {\n",
              "        text-align: right;\n",
              "    }\n",
              "</style>\n",
              "<table border=\"1\" class=\"dataframe\">\n",
              "  <thead>\n",
              "    <tr style=\"text-align: right;\">\n",
              "      <th></th>\n",
              "      <th>Age</th>\n",
              "      <th>Income_(USD)</th>\n",
              "      <th>Loan_Amount_Request_(USD)</th>\n",
              "      <th>Current_Loan_Expenses_(USD)</th>\n",
              "      <th>Dependents</th>\n",
              "      <th>Credit_Score</th>\n",
              "      <th>No._of_Defaults</th>\n",
              "      <th>Property_ID</th>\n",
              "      <th>Property_Age</th>\n",
              "      <th>Property_Type</th>\n",
              "      <th>Co-Applicant</th>\n",
              "      <th>Property_Price</th>\n",
              "      <th>Loan_Sanction_Amount_(USD)</th>\n",
              "    </tr>\n",
              "  </thead>\n",
              "  <tbody>\n",
              "    <tr>\n",
              "      <th>0</th>\n",
              "      <td>56</td>\n",
              "      <td>1933.05</td>\n",
              "      <td>72809.58</td>\n",
              "      <td>241.08</td>\n",
              "      <td>3.0</td>\n",
              "      <td>809.44</td>\n",
              "      <td>0</td>\n",
              "      <td>746</td>\n",
              "      <td>1933.05</td>\n",
              "      <td>4</td>\n",
              "      <td>1</td>\n",
              "      <td>119933.46</td>\n",
              "      <td>54607.18</td>\n",
              "    </tr>\n",
              "    <tr>\n",
              "      <th>1</th>\n",
              "      <td>32</td>\n",
              "      <td>4952.91</td>\n",
              "      <td>46837.47</td>\n",
              "      <td>495.81</td>\n",
              "      <td>1.0</td>\n",
              "      <td>780.40</td>\n",
              "      <td>0</td>\n",
              "      <td>608</td>\n",
              "      <td>4952.91</td>\n",
              "      <td>2</td>\n",
              "      <td>1</td>\n",
              "      <td>54791.00</td>\n",
              "      <td>37469.98</td>\n",
              "    </tr>\n",
              "    <tr>\n",
              "      <th>2</th>\n",
              "      <td>65</td>\n",
              "      <td>988.19</td>\n",
              "      <td>45593.04</td>\n",
              "      <td>171.95</td>\n",
              "      <td>1.0</td>\n",
              "      <td>833.15</td>\n",
              "      <td>0</td>\n",
              "      <td>546</td>\n",
              "      <td>988.19</td>\n",
              "      <td>2</td>\n",
              "      <td>0</td>\n",
              "      <td>72440.58</td>\n",
              "      <td>36474.43</td>\n",
              "    </tr>\n",
              "    <tr>\n",
              "      <th>3</th>\n",
              "      <td>65</td>\n",
              "      <td>NaN</td>\n",
              "      <td>80057.92</td>\n",
              "      <td>298.54</td>\n",
              "      <td>2.0</td>\n",
              "      <td>832.70</td>\n",
              "      <td>1</td>\n",
              "      <td>890</td>\n",
              "      <td>NaN</td>\n",
              "      <td>2</td>\n",
              "      <td>1</td>\n",
              "      <td>121441.51</td>\n",
              "      <td>56040.54</td>\n",
              "    </tr>\n",
              "    <tr>\n",
              "      <th>4</th>\n",
              "      <td>31</td>\n",
              "      <td>2614.77</td>\n",
              "      <td>113858.89</td>\n",
              "      <td>491.41</td>\n",
              "      <td>NaN</td>\n",
              "      <td>745.55</td>\n",
              "      <td>1</td>\n",
              "      <td>715</td>\n",
              "      <td>2614.77</td>\n",
              "      <td>4</td>\n",
              "      <td>1</td>\n",
              "      <td>208567.91</td>\n",
              "      <td>74008.28</td>\n",
              "    </tr>\n",
              "    <tr>\n",
              "      <th>...</th>\n",
              "      <td>...</td>\n",
              "      <td>...</td>\n",
              "      <td>...</td>\n",
              "      <td>...</td>\n",
              "      <td>...</td>\n",
              "      <td>...</td>\n",
              "      <td>...</td>\n",
              "      <td>...</td>\n",
              "      <td>...</td>\n",
              "      <td>...</td>\n",
              "      <td>...</td>\n",
              "      <td>...</td>\n",
              "      <td>...</td>\n",
              "    </tr>\n",
              "    <tr>\n",
              "      <th>29995</th>\n",
              "      <td>38</td>\n",
              "      <td>4969.41</td>\n",
              "      <td>76657.90</td>\n",
              "      <td>722.34</td>\n",
              "      <td>2.0</td>\n",
              "      <td>869.61</td>\n",
              "      <td>0</td>\n",
              "      <td>566</td>\n",
              "      <td>4969.41</td>\n",
              "      <td>4</td>\n",
              "      <td>1</td>\n",
              "      <td>111096.56</td>\n",
              "      <td>68992.11</td>\n",
              "    </tr>\n",
              "    <tr>\n",
              "      <th>29996</th>\n",
              "      <td>20</td>\n",
              "      <td>1606.88</td>\n",
              "      <td>66595.14</td>\n",
              "      <td>253.04</td>\n",
              "      <td>3.0</td>\n",
              "      <td>729.41</td>\n",
              "      <td>0</td>\n",
              "      <td>175</td>\n",
              "      <td>1606.88</td>\n",
              "      <td>3</td>\n",
              "      <td>1</td>\n",
              "      <td>73453.94</td>\n",
              "      <td>46616.60</td>\n",
              "    </tr>\n",
              "    <tr>\n",
              "      <th>29997</th>\n",
              "      <td>49</td>\n",
              "      <td>NaN</td>\n",
              "      <td>81410.08</td>\n",
              "      <td>583.11</td>\n",
              "      <td>NaN</td>\n",
              "      <td>NaN</td>\n",
              "      <td>0</td>\n",
              "      <td>959</td>\n",
              "      <td>NaN</td>\n",
              "      <td>1</td>\n",
              "      <td>1</td>\n",
              "      <td>102108.02</td>\n",
              "      <td>61057.56</td>\n",
              "    </tr>\n",
              "    <tr>\n",
              "      <th>29998</th>\n",
              "      <td>38</td>\n",
              "      <td>2417.71</td>\n",
              "      <td>142524.10</td>\n",
              "      <td>378.29</td>\n",
              "      <td>3.0</td>\n",
              "      <td>677.27</td>\n",
              "      <td>1</td>\n",
              "      <td>375</td>\n",
              "      <td>2417.71</td>\n",
              "      <td>4</td>\n",
              "      <td>1</td>\n",
              "      <td>168194.47</td>\n",
              "      <td>99766.87</td>\n",
              "    </tr>\n",
              "    <tr>\n",
              "      <th>29999</th>\n",
              "      <td>63</td>\n",
              "      <td>3068.24</td>\n",
              "      <td>156290.54</td>\n",
              "      <td>693.94</td>\n",
              "      <td>1.0</td>\n",
              "      <td>815.44</td>\n",
              "      <td>0</td>\n",
              "      <td>344</td>\n",
              "      <td>3068.24</td>\n",
              "      <td>3</td>\n",
              "      <td>1</td>\n",
              "      <td>194512.60</td>\n",
              "      <td>117217.90</td>\n",
              "    </tr>\n",
              "  </tbody>\n",
              "</table>\n",
              "<p>29097 rows × 13 columns</p>\n",
              "</div>"
            ],
            "text/plain": [
              "       Age  Income_(USD)  ...  Property_Price  Loan_Sanction_Amount_(USD)\n",
              "0       56       1933.05  ...       119933.46                    54607.18\n",
              "1       32       4952.91  ...        54791.00                    37469.98\n",
              "2       65        988.19  ...        72440.58                    36474.43\n",
              "3       65           NaN  ...       121441.51                    56040.54\n",
              "4       31       2614.77  ...       208567.91                    74008.28\n",
              "...    ...           ...  ...             ...                         ...\n",
              "29995   38       4969.41  ...       111096.56                    68992.11\n",
              "29996   20       1606.88  ...        73453.94                    46616.60\n",
              "29997   49           NaN  ...       102108.02                    61057.56\n",
              "29998   38       2417.71  ...       168194.47                    99766.87\n",
              "29999   63       3068.24  ...       194512.60                   117217.90\n",
              "\n",
              "[29097 rows x 13 columns]"
            ]
          },
          "metadata": {
            "tags": []
          },
          "execution_count": 21
        }
      ]
    },
    {
      "cell_type": "code",
      "metadata": {
        "colab": {
          "base_uri": "https://localhost:8080/"
        },
        "id": "XeMmIDgKWi4a",
        "outputId": "a0dece00-7380-46ff-e92d-ba115c402e5e"
      },
      "source": [
        "#Now dealing with Numeric data and performing isnull().sum()\n",
        "loan_training_dataset_numeric.isnull().sum()"
      ],
      "execution_count": 22,
      "outputs": [
        {
          "output_type": "execute_result",
          "data": {
            "text/plain": [
              "Age                               0\n",
              "Income_(USD)                   4358\n",
              "Loan_Amount_Request_(USD)         0\n",
              "Current_Loan_Expenses_(USD)       0\n",
              "Dependents                     2368\n",
              "Credit_Score                   1621\n",
              "No._of_Defaults                   0\n",
              "Property_ID                       0\n",
              "Property_Age                   4614\n",
              "Property_Type                     0\n",
              "Co-Applicant                      0\n",
              "Property_Price                    0\n",
              "Loan_Sanction_Amount_(USD)        0\n",
              "dtype: int64"
            ]
          },
          "metadata": {
            "tags": []
          },
          "execution_count": 22
        }
      ]
    },
    {
      "cell_type": "code",
      "metadata": {
        "colab": {
          "base_uri": "https://localhost:8080/"
        },
        "id": "s2FQy4aIwU4U",
        "outputId": "067ca7c3-9182-4773-e3bd-f40209422c58"
      },
      "source": [
        "#Now dealing with Categorical  data and performing isnull().sum()\n",
        "loan_training_dataset_categorical.isnull().sum()"
      ],
      "execution_count": 23,
      "outputs": [
        {
          "output_type": "execute_result",
          "data": {
            "text/plain": [
              "Customer_ID                  0\n",
              "Name                         0\n",
              "Gender                       0\n",
              "Income_Stability          1601\n",
              "Profession                   0\n",
              "Type_of_Employment        7047\n",
              "Location                     0\n",
              "Expense_Type_1               0\n",
              "Expense_Type_2               0\n",
              "Has_Active_Credit_Card    1512\n",
              "Property_Location            0\n",
              "dtype: int64"
            ]
          },
          "metadata": {
            "tags": []
          },
          "execution_count": 23
        }
      ]
    },
    {
      "cell_type": "code",
      "metadata": {
        "colab": {
          "base_uri": "https://localhost:8080/",
          "height": 650
        },
        "id": "ULEJJ8FFiR7P",
        "outputId": "626cbbf6-05a0-4630-a9f0-6c48357b9a3a"
      },
      "source": [
        "#Imputing the missing values in the dataset using mean,median and mode methods\n",
        "from matplotlib import pyplot as plt\n",
        "\n",
        "# Make a copy of loan_training dataset Numerical & Categorical\n",
        "\n",
        "#Mean,Median,Mode and Constant imputer\n",
        "loan_training_dataset_test = loan_training_dataset_numeric.copy(deep=True)\n",
        "loan_training_dataset_mean = loan_training_dataset_numeric.copy(deep=True)\n",
        "loan_training_dataset_median = loan_training_dataset_numeric.copy(deep=True)\n",
        "\n",
        "\n",
        "#Mode and Constant imputation for Categorical\n",
        "loan_training_dataset__categorical_mode = loan_training_dataset_categorical.copy(deep=True)\n",
        "loan_training_dataset_categorical_constant = loan_training_dataset_categorical.copy(deep=True)\n",
        "\n",
        "\n",
        "#import SimpleImputer from sklearn\n",
        "from sklearn.impute import SimpleImputer\n",
        "\n",
        "# Create  imputer object for each kind of imputation\n",
        "#Numerical\n",
        "mean_imputer = SimpleImputer(strategy='mean')\n",
        "median_imputer = SimpleImputer(strategy='median')\n",
        "\n",
        "#Categorical\n",
        "categorical_mode_imputer = SimpleImputer(strategy='most_frequent')\n",
        "categorical_constant_imputer = SimpleImputer(strategy='constant',fill_value=0)\n",
        "\n",
        "# Impute respective imputation values in the respective dataframes \n",
        "loan_training_dataset_mean.iloc[:, :] = mean_imputer.fit_transform(loan_training_dataset_mean)\n",
        "loan_training_dataset_median.iloc[:, :] = median_imputer.fit_transform(loan_training_dataset_median)\n",
        "\n",
        "#impuation of categorical\n",
        "loan_training_dataset__categorical_mode.iloc[:, :] = categorical_mode_imputer.fit_transform(loan_training_dataset__categorical_mode)\n",
        "loan_training_dataset_categorical_constant.iloc[:, :] = categorical_constant_imputer.fit_transform(loan_training_dataset_categorical_constant)\n",
        "\n",
        "fig, axes = plt.subplots(nrows=3, ncols=2, figsize=(10, 10))\n",
        "nullity = loan_training_dataset.Credit_Score.isnull()+loan_training_dataset.Property_Age.isnull()\n",
        "\n",
        "# Create a dictionary of imputations\n",
        "imputations = {'Mean':loan_training_dataset_mean,'Median':loan_training_dataset_median,\n",
        "               'Categorical mode':loan_training_dataset__categorical_mode,'Categorical Constant':loan_training_dataset_categorical_constant}\n",
        "\n",
        "# Loop over flattened axes and imputations\n",
        "#for ax, df_key in zip(axes.flatten(),imputations):\n",
        "    # Select and also set the title for a DataFrame\n",
        " #   imputations[df_key].plot(x='Income_(USD)', y='Credit_Score', kind='scatter', \n",
        "  #                        alpha=0.5, c=nullity, cmap='rainbow', ax=ax, \n",
        "   #                       colorbar=False, title=df_key)\n",
        "plt.show()"
      ],
      "execution_count": 25,
      "outputs": [
        {
          "output_type": "stream",
          "text": [
            "/usr/local/lib/python3.7/dist-packages/pandas/core/computation/expressions.py:204: UserWarning: evaluating in Python space because the '+' operator is not supported by numexpr for the bool dtype, use '|' instead\n",
            "  f\"evaluating in Python space because the {repr(op_str)} \"\n"
          ],
          "name": "stderr"
        },
        {
          "output_type": "display_data",
          "data": {
            "image/png": "[encoded data removed]",
            "text/plain": [
              "<Figure size 720x720 with 6 Axes>"
            ]
          },
          "metadata": {
            "tags": [],
            "needs_background": "light"
          }
        }
      ]
    },
    {
      "cell_type": "code",
      "metadata": {
        "colab": {
          "base_uri": "https://localhost:8080/"
        },
        "id": "7E1lei2Tls_H",
        "outputId": "7639c5d6-a7a7-4372-c38b-9c05750da1d9"
      },
      "source": [
        "loan_training_dataset_test.isnull().sum()"
      ],
      "execution_count": 26,
      "outputs": [
        {
          "output_type": "execute_result",
          "data": {
            "text/plain": [
              "Age                               0\n",
              "Income_(USD)                   4358\n",
              "Loan_Amount_Request_(USD)         0\n",
              "Current_Loan_Expenses_(USD)       0\n",
              "Dependents                     2368\n",
              "Credit_Score                   1621\n",
              "No._of_Defaults                   0\n",
              "Property_ID                       0\n",
              "Property_Age                   4614\n",
              "Property_Type                     0\n",
              "Co-Applicant                      0\n",
              "Property_Price                    0\n",
              "Loan_Sanction_Amount_(USD)        0\n",
              "dtype: int64"
            ]
          },
          "metadata": {
            "tags": []
          },
          "execution_count": 26
        }
      ]
    },
    {
      "cell_type": "code",
      "metadata": {
        "colab": {
          "base_uri": "https://localhost:8080/",
          "height": 280
        },
        "id": "JAU7mnkudHPP",
        "outputId": "bf38737d-c7e5-43bd-83c8-faf508633079"
      },
      "source": [
        "#credit score-mean\n",
        "# Plot graphs of imputed DataFrames and the complete case\n",
        "loan_training_dataset_complete_case['Credit_Score'].plot(kind='kde', c='blue', linewidth=12)\n",
        "loan_training_dataset_mean['Credit_Score'].plot(kind='kde', linewidth=8)\n",
        "loan_training_dataset_median['Credit_Score'].plot(kind='kde', linewidth=4)\n",
        "\n",
        "# Create labels for the four DataFrames\n",
        "labels = ['Baseline (Complete Case)', 'Mean Imputation', 'Median Imputation']\n",
        "plt.legend(labels)\n",
        "\n",
        "# Set the x-label as Skin Fold\n",
        "plt.xlabel('Credit_Score')\n",
        "\n",
        "plt.show()"
      ],
      "execution_count": 27,
      "outputs": [
        {
          "output_type": "display_data",
          "data": {
            "image/png": "[encoded data removed]",
            "text/plain": [
              "<Figure size 432x288 with 1 Axes>"
            ]
          },
          "metadata": {
            "tags": [],
            "needs_background": "light"
          }
        }
      ]
    },
    {
      "cell_type": "code",
      "metadata": {
        "colab": {
          "base_uri": "https://localhost:8080/",
          "height": 280
        },
        "id": "iiStt_1DlmYM",
        "outputId": "06cb041a-b161-4059-cf43-1688c47daa5d"
      },
      "source": [
        "#Income_(USD)-Median\n",
        "# Plot graphs of imputed DataFrames and the complete case\n",
        "loan_training_dataset_complete_case['Income_(USD)'].plot(kind='kde', c='blue', linewidth=14)\n",
        "loan_training_dataset_mean['Income_(USD)'].plot(kind='kde', linewidth=10)\n",
        "loan_training_dataset_median['Income_(USD)'].plot(kind='kde', linewidth=6)\n",
        "\n",
        "# Create labels for the four DataFrames\n",
        "labels = ['Baseline (Complete Case)', 'Mean Imputation', 'Median Imputation', 'Mode Imputation']\n",
        "plt.legend(labels)\n",
        "\n",
        "# Set the x-label as Skin Fold\n",
        "plt.xlabel('Income_(USD)')\n",
        "\n",
        "plt.show()"
      ],
      "execution_count": 28,
      "outputs": [
        {
          "output_type": "display_data",
          "data": {
            "image/png": "[encoded data removed]",
            "text/plain": [
              "<Figure size 432x288 with 1 Axes>"
            ]
          },
          "metadata": {
            "tags": [],
            "needs_background": "light"
          }
        }
      ]
    },
    {
      "cell_type": "code",
      "metadata": {
        "colab": {
          "base_uri": "https://localhost:8080/",
          "height": 279
        },
        "id": "4vy1z5ZemL-w",
        "outputId": "316a35a4-e183-4f22-c2b9-5931652d95bc"
      },
      "source": [
        "#Dependents-Mean\n",
        "# Plot graphs of imputed DataFrames and the complete case\n",
        "loan_training_dataset_complete_case['Dependents'].plot(kind='kde', c='red', linewidth=14)\n",
        "loan_training_dataset_mean['Dependents'].plot(kind='kde',linewidth=10)\n",
        "loan_training_dataset_median['Dependents'].plot(kind='kde',linewidth=6)\n",
        "\n",
        "# Create labels for the four DataFrames\n",
        "labels = ['Baseline (Complete Case)', 'Mean Imputation', 'Median Imputation', 'Mode Imputation']\n",
        "plt.legend(labels)\n",
        "\n",
        "# Set the x-label as Skin Fold\n",
        "plt.xlabel('Dependents')\n",
        "\n",
        "plt.show()"
      ],
      "execution_count": 29,
      "outputs": [
        {
          "output_type": "display_data",
          "data": {
            "image/png": "[encoded data removed]",
            "text/plain": [
              "<Figure size 432x288 with 1 Axes>"
            ]
          },
          "metadata": {
            "tags": [],
            "needs_background": "light"
          }
        }
      ]
    },
    {
      "cell_type": "code",
      "metadata": {
        "colab": {
          "base_uri": "https://localhost:8080/",
          "height": 280
        },
        "id": "CddtIJiOnj6v",
        "outputId": "657fb7ad-c929-4e3a-f159-03b92cee1bdb"
      },
      "source": [
        "#Property_Age\n",
        "# Plot graphs of imputed DataFrames and the complete case\n",
        "loan_training_dataset_complete_case['Property_Age'].plot(kind='kde', c='red', linewidth=14)\n",
        "loan_training_dataset_mean['Property_Age'].plot(kind='kde',linewidth=10)\n",
        "loan_training_dataset_median['Property_Age'].plot(kind='kde',linewidth=6)\n",
        "\n",
        "# Create labels for the four DataFrames\n",
        "labels = ['Baseline (Complete Case)', 'Mean Imputation', 'Median Imputation', 'Mode Imputation']\n",
        "plt.legend(labels)\n",
        "\n",
        "# Set the x-label as Skin Fold\n",
        "plt.xlabel('Property_Age')\n",
        "\n",
        "plt.show()"
      ],
      "execution_count": 30,
      "outputs": [
        {
          "output_type": "display_data",
          "data": {
            "image/png": "[encoded data removed]",
            "text/plain": [
              "<Figure size 432x288 with 1 Axes>"
            ]
          },
          "metadata": {
            "tags": [],
            "needs_background": "light"
          }
        }
      ]
    },
    {
      "cell_type": "code",
      "metadata": {
        "id": "6LrmofWQn_Z5"
      },
      "source": [
        "#Assigning best chosen column from mean,median and mode to main data frame i.e, loan_training_dataset\n",
        "#Numeric\n",
        "loan_training_dataset['Credit_Score']=loan_training_dataset_mean['Credit_Score']\n",
        "loan_training_dataset['Income_(USD)']=loan_training_dataset_median['Income_(USD)']\n",
        "loan_training_dataset['Dependents']=loan_training_dataset_mean['Dependents']\n",
        "loan_training_dataset['Property_Age']=loan_training_dataset_mean['Property_Age']\n",
        "#Categorical\n",
        "loan_training_dataset['Income_Stability']=loan_training_dataset__categorical_mode['Income_Stability']\n",
        "loan_training_dataset['Type_of_Employment']=loan_training_dataset__categorical_mode['Type_of_Employment']\n",
        "loan_training_dataset['Has_Active_Credit_Card']=loan_training_dataset__categorical_mode['Has_Active_Credit_Card']\n"
      ],
      "execution_count": 31,
      "outputs": []
    },
    {
      "cell_type": "code",
      "metadata": {
        "colab": {
          "base_uri": "https://localhost:8080/",
          "height": 609
        },
        "id": "_hBe-030scbA",
        "outputId": "b6001cb7-414f-4e35-cf15-f7e2b64dc15b"
      },
      "source": [
        "loan_training_dataset\n"
      ],
      "execution_count": 32,
      "outputs": [
        {
          "output_type": "execute_result",
          "data": {
            "text/html": [
              "<div>\n",
              "<style scoped>\n",
              "    .dataframe tbody tr th:only-of-type {\n",
              "        vertical-align: middle;\n",
              "    }\n",
              "\n",
              "    .dataframe tbody tr th {\n",
              "        vertical-align: top;\n",
              "    }\n",
              "\n",
              "    .dataframe thead th {\n",
              "        text-align: right;\n",
              "    }\n",
              "</style>\n",
              "<table border=\"1\" class=\"dataframe\">\n",
              "  <thead>\n",
              "    <tr style=\"text-align: right;\">\n",
              "      <th></th>\n",
              "      <th>Customer_ID</th>\n",
              "      <th>Name</th>\n",
              "      <th>Gender</th>\n",
              "      <th>Age</th>\n",
              "      <th>Income_(USD)</th>\n",
              "      <th>Income_Stability</th>\n",
              "      <th>Profession</th>\n",
              "      <th>Type_of_Employment</th>\n",
              "      <th>Location</th>\n",
              "      <th>Loan_Amount_Request_(USD)</th>\n",
              "      <th>Current_Loan_Expenses_(USD)</th>\n",
              "      <th>Expense_Type_1</th>\n",
              "      <th>Expense_Type_2</th>\n",
              "      <th>Dependents</th>\n",
              "      <th>Credit_Score</th>\n",
              "      <th>No._of_Defaults</th>\n",
              "      <th>Has_Active_Credit_Card</th>\n",
              "      <th>Property_ID</th>\n",
              "      <th>Property_Age</th>\n",
              "      <th>Property_Type</th>\n",
              "      <th>Property_Location</th>\n",
              "      <th>Co-Applicant</th>\n",
              "      <th>Property_Price</th>\n",
              "      <th>Loan_Sanction_Amount_(USD)</th>\n",
              "    </tr>\n",
              "  </thead>\n",
              "  <tbody>\n",
              "    <tr>\n",
              "      <th>0</th>\n",
              "      <td>C-36995</td>\n",
              "      <td>Frederica Shealy</td>\n",
              "      <td>F</td>\n",
              "      <td>56</td>\n",
              "      <td>1933.05</td>\n",
              "      <td>Low</td>\n",
              "      <td>Working</td>\n",
              "      <td>Sales staff</td>\n",
              "      <td>Semi-Urban</td>\n",
              "      <td>72809.58</td>\n",
              "      <td>241.08</td>\n",
              "      <td>N</td>\n",
              "      <td>N</td>\n",
              "      <td>3.000000</td>\n",
              "      <td>809.44000</td>\n",
              "      <td>0</td>\n",
              "      <td>Active</td>\n",
              "      <td>746</td>\n",
              "      <td>1933.050000</td>\n",
              "      <td>4</td>\n",
              "      <td>Rural</td>\n",
              "      <td>1</td>\n",
              "      <td>119933.46</td>\n",
              "      <td>54607.18</td>\n",
              "    </tr>\n",
              "    <tr>\n",
              "      <th>1</th>\n",
              "      <td>C-33999</td>\n",
              "      <td>America Calderone</td>\n",
              "      <td>M</td>\n",
              "      <td>32</td>\n",
              "      <td>4952.91</td>\n",
              "      <td>Low</td>\n",
              "      <td>Working</td>\n",
              "      <td>Laborers</td>\n",
              "      <td>Semi-Urban</td>\n",
              "      <td>46837.47</td>\n",
              "      <td>495.81</td>\n",
              "      <td>N</td>\n",
              "      <td>Y</td>\n",
              "      <td>1.000000</td>\n",
              "      <td>780.40000</td>\n",
              "      <td>0</td>\n",
              "      <td>Unpossessed</td>\n",
              "      <td>608</td>\n",
              "      <td>4952.910000</td>\n",
              "      <td>2</td>\n",
              "      <td>Rural</td>\n",
              "      <td>1</td>\n",
              "      <td>54791.00</td>\n",
              "      <td>37469.98</td>\n",
              "    </tr>\n",
              "    <tr>\n",
              "      <th>2</th>\n",
              "      <td>C-3770</td>\n",
              "      <td>Rosetta Verne</td>\n",
              "      <td>F</td>\n",
              "      <td>65</td>\n",
              "      <td>988.19</td>\n",
              "      <td>High</td>\n",
              "      <td>Pensioner</td>\n",
              "      <td>Laborers</td>\n",
              "      <td>Semi-Urban</td>\n",
              "      <td>45593.04</td>\n",
              "      <td>171.95</td>\n",
              "      <td>N</td>\n",
              "      <td>Y</td>\n",
              "      <td>1.000000</td>\n",
              "      <td>833.15000</td>\n",
              "      <td>0</td>\n",
              "      <td>Unpossessed</td>\n",
              "      <td>546</td>\n",
              "      <td>988.190000</td>\n",
              "      <td>2</td>\n",
              "      <td>Urban</td>\n",
              "      <td>0</td>\n",
              "      <td>72440.58</td>\n",
              "      <td>36474.43</td>\n",
              "    </tr>\n",
              "    <tr>\n",
              "      <th>3</th>\n",
              "      <td>C-26480</td>\n",
              "      <td>Zoe Chitty</td>\n",
              "      <td>F</td>\n",
              "      <td>65</td>\n",
              "      <td>2222.33</td>\n",
              "      <td>High</td>\n",
              "      <td>Pensioner</td>\n",
              "      <td>Laborers</td>\n",
              "      <td>Rural</td>\n",
              "      <td>80057.92</td>\n",
              "      <td>298.54</td>\n",
              "      <td>N</td>\n",
              "      <td>Y</td>\n",
              "      <td>2.000000</td>\n",
              "      <td>832.70000</td>\n",
              "      <td>1</td>\n",
              "      <td>Unpossessed</td>\n",
              "      <td>890</td>\n",
              "      <td>2630.731729</td>\n",
              "      <td>2</td>\n",
              "      <td>Semi-Urban</td>\n",
              "      <td>1</td>\n",
              "      <td>121441.51</td>\n",
              "      <td>56040.54</td>\n",
              "    </tr>\n",
              "    <tr>\n",
              "      <th>4</th>\n",
              "      <td>C-23459</td>\n",
              "      <td>Afton Venema</td>\n",
              "      <td>F</td>\n",
              "      <td>31</td>\n",
              "      <td>2614.77</td>\n",
              "      <td>Low</td>\n",
              "      <td>Working</td>\n",
              "      <td>High skill tech staff</td>\n",
              "      <td>Semi-Urban</td>\n",
              "      <td>113858.89</td>\n",
              "      <td>491.41</td>\n",
              "      <td>N</td>\n",
              "      <td>Y</td>\n",
              "      <td>2.254443</td>\n",
              "      <td>745.55000</td>\n",
              "      <td>1</td>\n",
              "      <td>Active</td>\n",
              "      <td>715</td>\n",
              "      <td>2614.770000</td>\n",
              "      <td>4</td>\n",
              "      <td>Semi-Urban</td>\n",
              "      <td>1</td>\n",
              "      <td>208567.91</td>\n",
              "      <td>74008.28</td>\n",
              "    </tr>\n",
              "    <tr>\n",
              "      <th>...</th>\n",
              "      <td>...</td>\n",
              "      <td>...</td>\n",
              "      <td>...</td>\n",
              "      <td>...</td>\n",
              "      <td>...</td>\n",
              "      <td>...</td>\n",
              "      <td>...</td>\n",
              "      <td>...</td>\n",
              "      <td>...</td>\n",
              "      <td>...</td>\n",
              "      <td>...</td>\n",
              "      <td>...</td>\n",
              "      <td>...</td>\n",
              "      <td>...</td>\n",
              "      <td>...</td>\n",
              "      <td>...</td>\n",
              "      <td>...</td>\n",
              "      <td>...</td>\n",
              "      <td>...</td>\n",
              "      <td>...</td>\n",
              "      <td>...</td>\n",
              "      <td>...</td>\n",
              "      <td>...</td>\n",
              "      <td>...</td>\n",
              "    </tr>\n",
              "    <tr>\n",
              "      <th>29995</th>\n",
              "      <td>C-43723</td>\n",
              "      <td>Angelyn Clevenger</td>\n",
              "      <td>M</td>\n",
              "      <td>38</td>\n",
              "      <td>4969.41</td>\n",
              "      <td>Low</td>\n",
              "      <td>Commercial associate</td>\n",
              "      <td>Managers</td>\n",
              "      <td>Urban</td>\n",
              "      <td>76657.90</td>\n",
              "      <td>722.34</td>\n",
              "      <td>Y</td>\n",
              "      <td>Y</td>\n",
              "      <td>2.000000</td>\n",
              "      <td>869.61000</td>\n",
              "      <td>0</td>\n",
              "      <td>Unpossessed</td>\n",
              "      <td>566</td>\n",
              "      <td>4969.410000</td>\n",
              "      <td>4</td>\n",
              "      <td>Urban</td>\n",
              "      <td>1</td>\n",
              "      <td>111096.56</td>\n",
              "      <td>68992.11</td>\n",
              "    </tr>\n",
              "    <tr>\n",
              "      <th>29996</th>\n",
              "      <td>C-32511</td>\n",
              "      <td>Silas Slaugh</td>\n",
              "      <td>M</td>\n",
              "      <td>20</td>\n",
              "      <td>1606.88</td>\n",
              "      <td>Low</td>\n",
              "      <td>Working</td>\n",
              "      <td>Laborers</td>\n",
              "      <td>Semi-Urban</td>\n",
              "      <td>66595.14</td>\n",
              "      <td>253.04</td>\n",
              "      <td>N</td>\n",
              "      <td>N</td>\n",
              "      <td>3.000000</td>\n",
              "      <td>729.41000</td>\n",
              "      <td>0</td>\n",
              "      <td>Inactive</td>\n",
              "      <td>175</td>\n",
              "      <td>1606.880000</td>\n",
              "      <td>3</td>\n",
              "      <td>Urban</td>\n",
              "      <td>1</td>\n",
              "      <td>73453.94</td>\n",
              "      <td>46616.60</td>\n",
              "    </tr>\n",
              "    <tr>\n",
              "      <th>29997</th>\n",
              "      <td>C-5192</td>\n",
              "      <td>Carmelo Lone</td>\n",
              "      <td>F</td>\n",
              "      <td>49</td>\n",
              "      <td>2222.33</td>\n",
              "      <td>Low</td>\n",
              "      <td>Working</td>\n",
              "      <td>Sales staff</td>\n",
              "      <td>Urban</td>\n",
              "      <td>81410.08</td>\n",
              "      <td>583.11</td>\n",
              "      <td>N</td>\n",
              "      <td>Y</td>\n",
              "      <td>2.254443</td>\n",
              "      <td>739.84948</td>\n",
              "      <td>0</td>\n",
              "      <td>Active</td>\n",
              "      <td>959</td>\n",
              "      <td>2630.731729</td>\n",
              "      <td>1</td>\n",
              "      <td>Rural</td>\n",
              "      <td>1</td>\n",
              "      <td>102108.02</td>\n",
              "      <td>61057.56</td>\n",
              "    </tr>\n",
              "    <tr>\n",
              "      <th>29998</th>\n",
              "      <td>C-12172</td>\n",
              "      <td>Carolann Osby</td>\n",
              "      <td>M</td>\n",
              "      <td>38</td>\n",
              "      <td>2417.71</td>\n",
              "      <td>Low</td>\n",
              "      <td>Working</td>\n",
              "      <td>Security staff</td>\n",
              "      <td>Semi-Urban</td>\n",
              "      <td>142524.10</td>\n",
              "      <td>378.29</td>\n",
              "      <td>N</td>\n",
              "      <td>Y</td>\n",
              "      <td>3.000000</td>\n",
              "      <td>677.27000</td>\n",
              "      <td>1</td>\n",
              "      <td>Unpossessed</td>\n",
              "      <td>375</td>\n",
              "      <td>2417.710000</td>\n",
              "      <td>4</td>\n",
              "      <td>Urban</td>\n",
              "      <td>1</td>\n",
              "      <td>168194.47</td>\n",
              "      <td>99766.87</td>\n",
              "    </tr>\n",
              "    <tr>\n",
              "      <th>29999</th>\n",
              "      <td>C-33003</td>\n",
              "      <td>Bridget Garibaldi</td>\n",
              "      <td>F</td>\n",
              "      <td>63</td>\n",
              "      <td>3068.24</td>\n",
              "      <td>High</td>\n",
              "      <td>Pensioner</td>\n",
              "      <td>Laborers</td>\n",
              "      <td>Rural</td>\n",
              "      <td>156290.54</td>\n",
              "      <td>693.94</td>\n",
              "      <td>N</td>\n",
              "      <td>Y</td>\n",
              "      <td>1.000000</td>\n",
              "      <td>815.44000</td>\n",
              "      <td>0</td>\n",
              "      <td>Active</td>\n",
              "      <td>344</td>\n",
              "      <td>3068.240000</td>\n",
              "      <td>3</td>\n",
              "      <td>Rural</td>\n",
              "      <td>1</td>\n",
              "      <td>194512.60</td>\n",
              "      <td>117217.90</td>\n",
              "    </tr>\n",
              "  </tbody>\n",
              "</table>\n",
              "<p>29097 rows × 24 columns</p>\n",
              "</div>"
            ],
            "text/plain": [
              "      Customer_ID  ... Loan_Sanction_Amount_(USD)\n",
              "0         C-36995  ...                   54607.18\n",
              "1         C-33999  ...                   37469.98\n",
              "2          C-3770  ...                   36474.43\n",
              "3         C-26480  ...                   56040.54\n",
              "4         C-23459  ...                   74008.28\n",
              "...           ...  ...                        ...\n",
              "29995     C-43723  ...                   68992.11\n",
              "29996     C-32511  ...                   46616.60\n",
              "29997      C-5192  ...                   61057.56\n",
              "29998     C-12172  ...                   99766.87\n",
              "29999     C-33003  ...                  117217.90\n",
              "\n",
              "[29097 rows x 24 columns]"
            ]
          },
          "metadata": {
            "tags": []
          },
          "execution_count": 32
        }
      ]
    },
    {
      "cell_type": "code",
      "metadata": {
        "colab": {
          "base_uri": "https://localhost:8080/",
          "height": 489
        },
        "id": "XofdOyVDr0Ub",
        "outputId": "e13a14cb-37d9-4fa2-c54f-154db03bc003"
      },
      "source": [
        "#Finding Correlation\n",
        "loan_training_dataset.corr()"
      ],
      "execution_count": 33,
      "outputs": [
        {
          "output_type": "execute_result",
          "data": {
            "text/html": [
              "<div>\n",
              "<style scoped>\n",
              "    .dataframe tbody tr th:only-of-type {\n",
              "        vertical-align: middle;\n",
              "    }\n",
              "\n",
              "    .dataframe tbody tr th {\n",
              "        vertical-align: top;\n",
              "    }\n",
              "\n",
              "    .dataframe thead th {\n",
              "        text-align: right;\n",
              "    }\n",
              "</style>\n",
              "<table border=\"1\" class=\"dataframe\">\n",
              "  <thead>\n",
              "    <tr style=\"text-align: right;\">\n",
              "      <th></th>\n",
              "      <th>Age</th>\n",
              "      <th>Income_(USD)</th>\n",
              "      <th>Loan_Amount_Request_(USD)</th>\n",
              "      <th>Current_Loan_Expenses_(USD)</th>\n",
              "      <th>Dependents</th>\n",
              "      <th>Credit_Score</th>\n",
              "      <th>No._of_Defaults</th>\n",
              "      <th>Property_ID</th>\n",
              "      <th>Property_Age</th>\n",
              "      <th>Property_Type</th>\n",
              "      <th>Co-Applicant</th>\n",
              "      <th>Property_Price</th>\n",
              "      <th>Loan_Sanction_Amount_(USD)</th>\n",
              "    </tr>\n",
              "  </thead>\n",
              "  <tbody>\n",
              "    <tr>\n",
              "      <th>Age</th>\n",
              "      <td>1.000000</td>\n",
              "      <td>-0.009425</td>\n",
              "      <td>-0.009182</td>\n",
              "      <td>-0.022557</td>\n",
              "      <td>-0.079685</td>\n",
              "      <td>0.126234</td>\n",
              "      <td>0.005198</td>\n",
              "      <td>-0.013054</td>\n",
              "      <td>-0.009415</td>\n",
              "      <td>0.002809</td>\n",
              "      <td>0.003110</td>\n",
              "      <td>-0.009189</td>\n",
              "      <td>0.008527</td>\n",
              "    </tr>\n",
              "    <tr>\n",
              "      <th>Income_(USD)</th>\n",
              "      <td>-0.009425</td>\n",
              "      <td>1.000000</td>\n",
              "      <td>0.045535</td>\n",
              "      <td>0.050256</td>\n",
              "      <td>0.004964</td>\n",
              "      <td>0.011569</td>\n",
              "      <td>-0.002032</td>\n",
              "      <td>-0.007597</td>\n",
              "      <td>0.999797</td>\n",
              "      <td>0.008887</td>\n",
              "      <td>0.000999</td>\n",
              "      <td>0.045973</td>\n",
              "      <td>0.033549</td>\n",
              "    </tr>\n",
              "    <tr>\n",
              "      <th>Loan_Amount_Request_(USD)</th>\n",
              "      <td>-0.009182</td>\n",
              "      <td>0.045535</td>\n",
              "      <td>1.000000</td>\n",
              "      <td>0.685096</td>\n",
              "      <td>0.038697</td>\n",
              "      <td>0.173144</td>\n",
              "      <td>-0.002350</td>\n",
              "      <td>-0.008702</td>\n",
              "      <td>0.045125</td>\n",
              "      <td>0.003504</td>\n",
              "      <td>0.003530</td>\n",
              "      <td>0.948753</td>\n",
              "      <td>0.723960</td>\n",
              "    </tr>\n",
              "    <tr>\n",
              "      <th>Current_Loan_Expenses_(USD)</th>\n",
              "      <td>-0.022557</td>\n",
              "      <td>0.050256</td>\n",
              "      <td>0.685096</td>\n",
              "      <td>1.000000</td>\n",
              "      <td>0.042434</td>\n",
              "      <td>0.112366</td>\n",
              "      <td>0.000743</td>\n",
              "      <td>-0.015592</td>\n",
              "      <td>0.049632</td>\n",
              "      <td>0.015783</td>\n",
              "      <td>0.003274</td>\n",
              "      <td>0.651429</td>\n",
              "      <td>0.485992</td>\n",
              "    </tr>\n",
              "    <tr>\n",
              "      <th>Dependents</th>\n",
              "      <td>-0.079685</td>\n",
              "      <td>0.004964</td>\n",
              "      <td>0.038697</td>\n",
              "      <td>0.042434</td>\n",
              "      <td>1.000000</td>\n",
              "      <td>-0.085176</td>\n",
              "      <td>0.008096</td>\n",
              "      <td>0.002756</td>\n",
              "      <td>0.004879</td>\n",
              "      <td>-0.009262</td>\n",
              "      <td>0.003701</td>\n",
              "      <td>0.035493</td>\n",
              "      <td>0.008193</td>\n",
              "    </tr>\n",
              "    <tr>\n",
              "      <th>Credit_Score</th>\n",
              "      <td>0.126234</td>\n",
              "      <td>0.011569</td>\n",
              "      <td>0.173144</td>\n",
              "      <td>0.112366</td>\n",
              "      <td>-0.085176</td>\n",
              "      <td>1.000000</td>\n",
              "      <td>0.006638</td>\n",
              "      <td>-0.005799</td>\n",
              "      <td>0.011621</td>\n",
              "      <td>0.007279</td>\n",
              "      <td>0.011058</td>\n",
              "      <td>0.165869</td>\n",
              "      <td>0.359990</td>\n",
              "    </tr>\n",
              "    <tr>\n",
              "      <th>No._of_Defaults</th>\n",
              "      <td>0.005198</td>\n",
              "      <td>-0.002032</td>\n",
              "      <td>-0.002350</td>\n",
              "      <td>0.000743</td>\n",
              "      <td>0.008096</td>\n",
              "      <td>0.006638</td>\n",
              "      <td>1.000000</td>\n",
              "      <td>-0.001914</td>\n",
              "      <td>-0.001871</td>\n",
              "      <td>-0.000127</td>\n",
              "      <td>-0.008651</td>\n",
              "      <td>-0.000758</td>\n",
              "      <td>-0.006429</td>\n",
              "    </tr>\n",
              "    <tr>\n",
              "      <th>Property_ID</th>\n",
              "      <td>-0.013054</td>\n",
              "      <td>-0.007597</td>\n",
              "      <td>-0.008702</td>\n",
              "      <td>-0.015592</td>\n",
              "      <td>0.002756</td>\n",
              "      <td>-0.005799</td>\n",
              "      <td>-0.001914</td>\n",
              "      <td>1.000000</td>\n",
              "      <td>-0.007548</td>\n",
              "      <td>0.009561</td>\n",
              "      <td>0.008666</td>\n",
              "      <td>-0.011801</td>\n",
              "      <td>-0.010061</td>\n",
              "    </tr>\n",
              "    <tr>\n",
              "      <th>Property_Age</th>\n",
              "      <td>-0.009415</td>\n",
              "      <td>0.999797</td>\n",
              "      <td>0.045125</td>\n",
              "      <td>0.049632</td>\n",
              "      <td>0.004879</td>\n",
              "      <td>0.011621</td>\n",
              "      <td>-0.001871</td>\n",
              "      <td>-0.007548</td>\n",
              "      <td>1.000000</td>\n",
              "      <td>0.008921</td>\n",
              "      <td>0.000687</td>\n",
              "      <td>0.045509</td>\n",
              "      <td>0.034216</td>\n",
              "    </tr>\n",
              "    <tr>\n",
              "      <th>Property_Type</th>\n",
              "      <td>0.002809</td>\n",
              "      <td>0.008887</td>\n",
              "      <td>0.003504</td>\n",
              "      <td>0.015783</td>\n",
              "      <td>-0.009262</td>\n",
              "      <td>0.007279</td>\n",
              "      <td>-0.000127</td>\n",
              "      <td>0.009561</td>\n",
              "      <td>0.008921</td>\n",
              "      <td>1.000000</td>\n",
              "      <td>-0.000659</td>\n",
              "      <td>0.002617</td>\n",
              "      <td>0.001054</td>\n",
              "    </tr>\n",
              "    <tr>\n",
              "      <th>Co-Applicant</th>\n",
              "      <td>0.003110</td>\n",
              "      <td>0.000999</td>\n",
              "      <td>0.003530</td>\n",
              "      <td>0.003274</td>\n",
              "      <td>0.003701</td>\n",
              "      <td>0.011058</td>\n",
              "      <td>-0.008651</td>\n",
              "      <td>0.008666</td>\n",
              "      <td>0.000687</td>\n",
              "      <td>-0.000659</td>\n",
              "      <td>1.000000</td>\n",
              "      <td>0.007220</td>\n",
              "      <td>-0.005576</td>\n",
              "    </tr>\n",
              "    <tr>\n",
              "      <th>Property_Price</th>\n",
              "      <td>-0.009189</td>\n",
              "      <td>0.045973</td>\n",
              "      <td>0.948753</td>\n",
              "      <td>0.651429</td>\n",
              "      <td>0.035493</td>\n",
              "      <td>0.165869</td>\n",
              "      <td>-0.000758</td>\n",
              "      <td>-0.011801</td>\n",
              "      <td>0.045509</td>\n",
              "      <td>0.002617</td>\n",
              "      <td>0.007220</td>\n",
              "      <td>1.000000</td>\n",
              "      <td>0.685046</td>\n",
              "    </tr>\n",
              "    <tr>\n",
              "      <th>Loan_Sanction_Amount_(USD)</th>\n",
              "      <td>0.008527</td>\n",
              "      <td>0.033549</td>\n",
              "      <td>0.723960</td>\n",
              "      <td>0.485992</td>\n",
              "      <td>0.008193</td>\n",
              "      <td>0.359990</td>\n",
              "      <td>-0.006429</td>\n",
              "      <td>-0.010061</td>\n",
              "      <td>0.034216</td>\n",
              "      <td>0.001054</td>\n",
              "      <td>-0.005576</td>\n",
              "      <td>0.685046</td>\n",
              "      <td>1.000000</td>\n",
              "    </tr>\n",
              "  </tbody>\n",
              "</table>\n",
              "</div>"
            ],
            "text/plain": [
              "                                  Age  ...  Loan_Sanction_Amount_(USD)\n",
              "Age                          1.000000  ...                    0.008527\n",
              "Income_(USD)                -0.009425  ...                    0.033549\n",
              "Loan_Amount_Request_(USD)   -0.009182  ...                    0.723960\n",
              "Current_Loan_Expenses_(USD) -0.022557  ...                    0.485992\n",
              "Dependents                  -0.079685  ...                    0.008193\n",
              "Credit_Score                 0.126234  ...                    0.359990\n",
              "No._of_Defaults              0.005198  ...                   -0.006429\n",
              "Property_ID                 -0.013054  ...                   -0.010061\n",
              "Property_Age                -0.009415  ...                    0.034216\n",
              "Property_Type                0.002809  ...                    0.001054\n",
              "Co-Applicant                 0.003110  ...                   -0.005576\n",
              "Property_Price              -0.009189  ...                    0.685046\n",
              "Loan_Sanction_Amount_(USD)   0.008527  ...                    1.000000\n",
              "\n",
              "[13 rows x 13 columns]"
            ]
          },
          "metadata": {
            "tags": []
          },
          "execution_count": 33
        }
      ]
    },
    {
      "cell_type": "markdown",
      "metadata": {
        "id": "JcK4c-56tchr"
      },
      "source": [
        "Property age and income usd=0.999\n",
        "Loan amount request and current loan expenses=0.68\n",
        "Loan AMOUNT request and property price=0.9487\n"
      ]
    },
    {
      "cell_type": "code",
      "metadata": {
        "colab": {
          "base_uri": "https://localhost:8080/"
        },
        "id": "GynYiz08vyan",
        "outputId": "193843ff-6915-4ae3-ffea-5736b0264f01"
      },
      "source": [
        "#Correlation matrix\n",
        "corr_matrix=loan_training_dataset.corr()\n",
        "# Create positive correlation matrix\n",
        "corr_df = loan_training_dataset.corr().abs()\n",
        "# Create and apply mask\n",
        "mask = np.triu(np.ones_like(corr_df, dtype=bool))\n",
        "tri_df = corr_matrix.mask(mask)\n",
        "\n",
        "# List column names of highly correlated features (r > 0.6)\n",
        "to_drop = [c for c in tri_df.columns if any(tri_df[c] >=0.70)]\n",
        "\n",
        "# Drop the features in the to_drop list\n",
        "reduced_df = loan_training_dataset.drop(to_drop, axis=1)\n",
        "\n",
        "print(\"The reduced dataframe has {} columns.\".format(reduced_df.shape[1]))"
      ],
      "execution_count": 34,
      "outputs": [
        {
          "output_type": "stream",
          "text": [
            "The reduced dataframe has 22 columns.\n"
          ],
          "name": "stdout"
        }
      ]
    },
    {
      "cell_type": "code",
      "metadata": {
        "colab": {
          "base_uri": "https://localhost:8080/"
        },
        "id": "tBfmf82vzu19",
        "outputId": "089718b6-72b0-4538-ee16-09dc4662e9b8"
      },
      "source": [
        "to_drop"
      ],
      "execution_count": 35,
      "outputs": [
        {
          "output_type": "execute_result",
          "data": {
            "text/plain": [
              "['Income_(USD)', 'Loan_Amount_Request_(USD)']"
            ]
          },
          "metadata": {
            "tags": []
          },
          "execution_count": 35
        }
      ]
    },
    {
      "cell_type": "code",
      "metadata": {
        "colab": {
          "base_uri": "https://localhost:8080/",
          "height": 609
        },
        "id": "5BPGU7OH4kAB",
        "outputId": "e506f579-0b99-4cb0-c914-10f8e4573e88"
      },
      "source": [
        "#dropping columns and choosing columnn with highest correlation among them for better accuracy trying two things\n",
        "loan_training_dataset_test1 = loan_training_dataset.copy(deep=True)\n",
        "loan_training_dataset_test1.drop(['Property_Price','Property_Age'], axis = 1)\n",
        "\n"
      ],
      "execution_count": 36,
      "outputs": [
        {
          "output_type": "execute_result",
          "data": {
            "text/html": [
              "<div>\n",
              "<style scoped>\n",
              "    .dataframe tbody tr th:only-of-type {\n",
              "        vertical-align: middle;\n",
              "    }\n",
              "\n",
              "    .dataframe tbody tr th {\n",
              "        vertical-align: top;\n",
              "    }\n",
              "\n",
              "    .dataframe thead th {\n",
              "        text-align: right;\n",
              "    }\n",
              "</style>\n",
              "<table border=\"1\" class=\"dataframe\">\n",
              "  <thead>\n",
              "    <tr style=\"text-align: right;\">\n",
              "      <th></th>\n",
              "      <th>Customer_ID</th>\n",
              "      <th>Name</th>\n",
              "      <th>Gender</th>\n",
              "      <th>Age</th>\n",
              "      <th>Income_(USD)</th>\n",
              "      <th>Income_Stability</th>\n",
              "      <th>Profession</th>\n",
              "      <th>Type_of_Employment</th>\n",
              "      <th>Location</th>\n",
              "      <th>Loan_Amount_Request_(USD)</th>\n",
              "      <th>Current_Loan_Expenses_(USD)</th>\n",
              "      <th>Expense_Type_1</th>\n",
              "      <th>Expense_Type_2</th>\n",
              "      <th>Dependents</th>\n",
              "      <th>Credit_Score</th>\n",
              "      <th>No._of_Defaults</th>\n",
              "      <th>Has_Active_Credit_Card</th>\n",
              "      <th>Property_ID</th>\n",
              "      <th>Property_Type</th>\n",
              "      <th>Property_Location</th>\n",
              "      <th>Co-Applicant</th>\n",
              "      <th>Loan_Sanction_Amount_(USD)</th>\n",
              "    </tr>\n",
              "  </thead>\n",
              "  <tbody>\n",
              "    <tr>\n",
              "      <th>0</th>\n",
              "      <td>C-36995</td>\n",
              "      <td>Frederica Shealy</td>\n",
              "      <td>F</td>\n",
              "      <td>56</td>\n",
              "      <td>1933.05</td>\n",
              "      <td>Low</td>\n",
              "      <td>Working</td>\n",
              "      <td>Sales staff</td>\n",
              "      <td>Semi-Urban</td>\n",
              "      <td>72809.58</td>\n",
              "      <td>241.08</td>\n",
              "      <td>N</td>\n",
              "      <td>N</td>\n",
              "      <td>3.000000</td>\n",
              "      <td>809.44000</td>\n",
              "      <td>0</td>\n",
              "      <td>Active</td>\n",
              "      <td>746</td>\n",
              "      <td>4</td>\n",
              "      <td>Rural</td>\n",
              "      <td>1</td>\n",
              "      <td>54607.18</td>\n",
              "    </tr>\n",
              "    <tr>\n",
              "      <th>1</th>\n",
              "      <td>C-33999</td>\n",
              "      <td>America Calderone</td>\n",
              "      <td>M</td>\n",
              "      <td>32</td>\n",
              "      <td>4952.91</td>\n",
              "      <td>Low</td>\n",
              "      <td>Working</td>\n",
              "      <td>Laborers</td>\n",
              "      <td>Semi-Urban</td>\n",
              "      <td>46837.47</td>\n",
              "      <td>495.81</td>\n",
              "      <td>N</td>\n",
              "      <td>Y</td>\n",
              "      <td>1.000000</td>\n",
              "      <td>780.40000</td>\n",
              "      <td>0</td>\n",
              "      <td>Unpossessed</td>\n",
              "      <td>608</td>\n",
              "      <td>2</td>\n",
              "      <td>Rural</td>\n",
              "      <td>1</td>\n",
              "      <td>37469.98</td>\n",
              "    </tr>\n",
              "    <tr>\n",
              "      <th>2</th>\n",
              "      <td>C-3770</td>\n",
              "      <td>Rosetta Verne</td>\n",
              "      <td>F</td>\n",
              "      <td>65</td>\n",
              "      <td>988.19</td>\n",
              "      <td>High</td>\n",
              "      <td>Pensioner</td>\n",
              "      <td>Laborers</td>\n",
              "      <td>Semi-Urban</td>\n",
              "      <td>45593.04</td>\n",
              "      <td>171.95</td>\n",
              "      <td>N</td>\n",
              "      <td>Y</td>\n",
              "      <td>1.000000</td>\n",
              "      <td>833.15000</td>\n",
              "      <td>0</td>\n",
              "      <td>Unpossessed</td>\n",
              "      <td>546</td>\n",
              "      <td>2</td>\n",
              "      <td>Urban</td>\n",
              "      <td>0</td>\n",
              "      <td>36474.43</td>\n",
              "    </tr>\n",
              "    <tr>\n",
              "      <th>3</th>\n",
              "      <td>C-26480</td>\n",
              "      <td>Zoe Chitty</td>\n",
              "      <td>F</td>\n",
              "      <td>65</td>\n",
              "      <td>2222.33</td>\n",
              "      <td>High</td>\n",
              "      <td>Pensioner</td>\n",
              "      <td>Laborers</td>\n",
              "      <td>Rural</td>\n",
              "      <td>80057.92</td>\n",
              "      <td>298.54</td>\n",
              "      <td>N</td>\n",
              "      <td>Y</td>\n",
              "      <td>2.000000</td>\n",
              "      <td>832.70000</td>\n",
              "      <td>1</td>\n",
              "      <td>Unpossessed</td>\n",
              "      <td>890</td>\n",
              "      <td>2</td>\n",
              "      <td>Semi-Urban</td>\n",
              "      <td>1</td>\n",
              "      <td>56040.54</td>\n",
              "    </tr>\n",
              "    <tr>\n",
              "      <th>4</th>\n",
              "      <td>C-23459</td>\n",
              "      <td>Afton Venema</td>\n",
              "      <td>F</td>\n",
              "      <td>31</td>\n",
              "      <td>2614.77</td>\n",
              "      <td>Low</td>\n",
              "      <td>Working</td>\n",
              "      <td>High skill tech staff</td>\n",
              "      <td>Semi-Urban</td>\n",
              "      <td>113858.89</td>\n",
              "      <td>491.41</td>\n",
              "      <td>N</td>\n",
              "      <td>Y</td>\n",
              "      <td>2.254443</td>\n",
              "      <td>745.55000</td>\n",
              "      <td>1</td>\n",
              "      <td>Active</td>\n",
              "      <td>715</td>\n",
              "      <td>4</td>\n",
              "      <td>Semi-Urban</td>\n",
              "      <td>1</td>\n",
              "      <td>74008.28</td>\n",
              "    </tr>\n",
              "    <tr>\n",
              "      <th>...</th>\n",
              "      <td>...</td>\n",
              "      <td>...</td>\n",
              "      <td>...</td>\n",
              "      <td>...</td>\n",
              "      <td>...</td>\n",
              "      <td>...</td>\n",
              "      <td>...</td>\n",
              "      <td>...</td>\n",
              "      <td>...</td>\n",
              "      <td>...</td>\n",
              "      <td>...</td>\n",
              "      <td>...</td>\n",
              "      <td>...</td>\n",
              "      <td>...</td>\n",
              "      <td>...</td>\n",
              "      <td>...</td>\n",
              "      <td>...</td>\n",
              "      <td>...</td>\n",
              "      <td>...</td>\n",
              "      <td>...</td>\n",
              "      <td>...</td>\n",
              "      <td>...</td>\n",
              "    </tr>\n",
              "    <tr>\n",
              "      <th>29995</th>\n",
              "      <td>C-43723</td>\n",
              "      <td>Angelyn Clevenger</td>\n",
              "      <td>M</td>\n",
              "      <td>38</td>\n",
              "      <td>4969.41</td>\n",
              "      <td>Low</td>\n",
              "      <td>Commercial associate</td>\n",
              "      <td>Managers</td>\n",
              "      <td>Urban</td>\n",
              "      <td>76657.90</td>\n",
              "      <td>722.34</td>\n",
              "      <td>Y</td>\n",
              "      <td>Y</td>\n",
              "      <td>2.000000</td>\n",
              "      <td>869.61000</td>\n",
              "      <td>0</td>\n",
              "      <td>Unpossessed</td>\n",
              "      <td>566</td>\n",
              "      <td>4</td>\n",
              "      <td>Urban</td>\n",
              "      <td>1</td>\n",
              "      <td>68992.11</td>\n",
              "    </tr>\n",
              "    <tr>\n",
              "      <th>29996</th>\n",
              "      <td>C-32511</td>\n",
              "      <td>Silas Slaugh</td>\n",
              "      <td>M</td>\n",
              "      <td>20</td>\n",
              "      <td>1606.88</td>\n",
              "      <td>Low</td>\n",
              "      <td>Working</td>\n",
              "      <td>Laborers</td>\n",
              "      <td>Semi-Urban</td>\n",
              "      <td>66595.14</td>\n",
              "      <td>253.04</td>\n",
              "      <td>N</td>\n",
              "      <td>N</td>\n",
              "      <td>3.000000</td>\n",
              "      <td>729.41000</td>\n",
              "      <td>0</td>\n",
              "      <td>Inactive</td>\n",
              "      <td>175</td>\n",
              "      <td>3</td>\n",
              "      <td>Urban</td>\n",
              "      <td>1</td>\n",
              "      <td>46616.60</td>\n",
              "    </tr>\n",
              "    <tr>\n",
              "      <th>29997</th>\n",
              "      <td>C-5192</td>\n",
              "      <td>Carmelo Lone</td>\n",
              "      <td>F</td>\n",
              "      <td>49</td>\n",
              "      <td>2222.33</td>\n",
              "      <td>Low</td>\n",
              "      <td>Working</td>\n",
              "      <td>Sales staff</td>\n",
              "      <td>Urban</td>\n",
              "      <td>81410.08</td>\n",
              "      <td>583.11</td>\n",
              "      <td>N</td>\n",
              "      <td>Y</td>\n",
              "      <td>2.254443</td>\n",
              "      <td>739.84948</td>\n",
              "      <td>0</td>\n",
              "      <td>Active</td>\n",
              "      <td>959</td>\n",
              "      <td>1</td>\n",
              "      <td>Rural</td>\n",
              "      <td>1</td>\n",
              "      <td>61057.56</td>\n",
              "    </tr>\n",
              "    <tr>\n",
              "      <th>29998</th>\n",
              "      <td>C-12172</td>\n",
              "      <td>Carolann Osby</td>\n",
              "      <td>M</td>\n",
              "      <td>38</td>\n",
              "      <td>2417.71</td>\n",
              "      <td>Low</td>\n",
              "      <td>Working</td>\n",
              "      <td>Security staff</td>\n",
              "      <td>Semi-Urban</td>\n",
              "      <td>142524.10</td>\n",
              "      <td>378.29</td>\n",
              "      <td>N</td>\n",
              "      <td>Y</td>\n",
              "      <td>3.000000</td>\n",
              "      <td>677.27000</td>\n",
              "      <td>1</td>\n",
              "      <td>Unpossessed</td>\n",
              "      <td>375</td>\n",
              "      <td>4</td>\n",
              "      <td>Urban</td>\n",
              "      <td>1</td>\n",
              "      <td>99766.87</td>\n",
              "    </tr>\n",
              "    <tr>\n",
              "      <th>29999</th>\n",
              "      <td>C-33003</td>\n",
              "      <td>Bridget Garibaldi</td>\n",
              "      <td>F</td>\n",
              "      <td>63</td>\n",
              "      <td>3068.24</td>\n",
              "      <td>High</td>\n",
              "      <td>Pensioner</td>\n",
              "      <td>Laborers</td>\n",
              "      <td>Rural</td>\n",
              "      <td>156290.54</td>\n",
              "      <td>693.94</td>\n",
              "      <td>N</td>\n",
              "      <td>Y</td>\n",
              "      <td>1.000000</td>\n",
              "      <td>815.44000</td>\n",
              "      <td>0</td>\n",
              "      <td>Active</td>\n",
              "      <td>344</td>\n",
              "      <td>3</td>\n",
              "      <td>Rural</td>\n",
              "      <td>1</td>\n",
              "      <td>117217.90</td>\n",
              "    </tr>\n",
              "  </tbody>\n",
              "</table>\n",
              "<p>29097 rows × 22 columns</p>\n",
              "</div>"
            ],
            "text/plain": [
              "      Customer_ID               Name  ... Co-Applicant  Loan_Sanction_Amount_(USD)\n",
              "0         C-36995   Frederica Shealy  ...            1                    54607.18\n",
              "1         C-33999  America Calderone  ...            1                    37469.98\n",
              "2          C-3770      Rosetta Verne  ...            0                    36474.43\n",
              "3         C-26480         Zoe Chitty  ...            1                    56040.54\n",
              "4         C-23459       Afton Venema  ...            1                    74008.28\n",
              "...           ...                ...  ...          ...                         ...\n",
              "29995     C-43723  Angelyn Clevenger  ...            1                    68992.11\n",
              "29996     C-32511       Silas Slaugh  ...            1                    46616.60\n",
              "29997      C-5192       Carmelo Lone  ...            1                    61057.56\n",
              "29998     C-12172      Carolann Osby  ...            1                    99766.87\n",
              "29999     C-33003  Bridget Garibaldi  ...            1                   117217.90\n",
              "\n",
              "[29097 rows x 22 columns]"
            ]
          },
          "metadata": {
            "tags": []
          },
          "execution_count": 36
        }
      ]
    },
    {
      "cell_type": "code",
      "metadata": {
        "colab": {
          "base_uri": "https://localhost:8080/",
          "height": 609
        },
        "id": "dIsvS6iLzfK0",
        "outputId": "74ccd132-6e1f-4757-adaa-9bfc2d03d0ec"
      },
      "source": [
        "loan_training_dataset_test2 = loan_training_dataset.copy(deep=True)\n",
        "loan_training_dataset_test2.drop(['Income_(USD)','Loan_Amount_Request_(USD)'], axis = 1)"
      ],
      "execution_count": 37,
      "outputs": [
        {
          "output_type": "execute_result",
          "data": {
            "text/html": [
              "<div>\n",
              "<style scoped>\n",
              "    .dataframe tbody tr th:only-of-type {\n",
              "        vertical-align: middle;\n",
              "    }\n",
              "\n",
              "    .dataframe tbody tr th {\n",
              "        vertical-align: top;\n",
              "    }\n",
              "\n",
              "    .dataframe thead th {\n",
              "        text-align: right;\n",
              "    }\n",
              "</style>\n",
              "<table border=\"1\" class=\"dataframe\">\n",
              "  <thead>\n",
              "    <tr style=\"text-align: right;\">\n",
              "      <th></th>\n",
              "      <th>Customer_ID</th>\n",
              "      <th>Name</th>\n",
              "      <th>Gender</th>\n",
              "      <th>Age</th>\n",
              "      <th>Income_Stability</th>\n",
              "      <th>Profession</th>\n",
              "      <th>Type_of_Employment</th>\n",
              "      <th>Location</th>\n",
              "      <th>Current_Loan_Expenses_(USD)</th>\n",
              "      <th>Expense_Type_1</th>\n",
              "      <th>Expense_Type_2</th>\n",
              "      <th>Dependents</th>\n",
              "      <th>Credit_Score</th>\n",
              "      <th>No._of_Defaults</th>\n",
              "      <th>Has_Active_Credit_Card</th>\n",
              "      <th>Property_ID</th>\n",
              "      <th>Property_Age</th>\n",
              "      <th>Property_Type</th>\n",
              "      <th>Property_Location</th>\n",
              "      <th>Co-Applicant</th>\n",
              "      <th>Property_Price</th>\n",
              "      <th>Loan_Sanction_Amount_(USD)</th>\n",
              "    </tr>\n",
              "  </thead>\n",
              "  <tbody>\n",
              "    <tr>\n",
              "      <th>0</th>\n",
              "      <td>C-36995</td>\n",
              "      <td>Frederica Shealy</td>\n",
              "      <td>F</td>\n",
              "      <td>56</td>\n",
              "      <td>Low</td>\n",
              "      <td>Working</td>\n",
              "      <td>Sales staff</td>\n",
              "      <td>Semi-Urban</td>\n",
              "      <td>241.08</td>\n",
              "      <td>N</td>\n",
              "      <td>N</td>\n",
              "      <td>3.000000</td>\n",
              "      <td>809.44000</td>\n",
              "      <td>0</td>\n",
              "      <td>Active</td>\n",
              "      <td>746</td>\n",
              "      <td>1933.050000</td>\n",
              "      <td>4</td>\n",
              "      <td>Rural</td>\n",
              "      <td>1</td>\n",
              "      <td>119933.46</td>\n",
              "      <td>54607.18</td>\n",
              "    </tr>\n",
              "    <tr>\n",
              "      <th>1</th>\n",
              "      <td>C-33999</td>\n",
              "      <td>America Calderone</td>\n",
              "      <td>M</td>\n",
              "      <td>32</td>\n",
              "      <td>Low</td>\n",
              "      <td>Working</td>\n",
              "      <td>Laborers</td>\n",
              "      <td>Semi-Urban</td>\n",
              "      <td>495.81</td>\n",
              "      <td>N</td>\n",
              "      <td>Y</td>\n",
              "      <td>1.000000</td>\n",
              "      <td>780.40000</td>\n",
              "      <td>0</td>\n",
              "      <td>Unpossessed</td>\n",
              "      <td>608</td>\n",
              "      <td>4952.910000</td>\n",
              "      <td>2</td>\n",
              "      <td>Rural</td>\n",
              "      <td>1</td>\n",
              "      <td>54791.00</td>\n",
              "      <td>37469.98</td>\n",
              "    </tr>\n",
              "    <tr>\n",
              "      <th>2</th>\n",
              "      <td>C-3770</td>\n",
              "      <td>Rosetta Verne</td>\n",
              "      <td>F</td>\n",
              "      <td>65</td>\n",
              "      <td>High</td>\n",
              "      <td>Pensioner</td>\n",
              "      <td>Laborers</td>\n",
              "      <td>Semi-Urban</td>\n",
              "      <td>171.95</td>\n",
              "      <td>N</td>\n",
              "      <td>Y</td>\n",
              "      <td>1.000000</td>\n",
              "      <td>833.15000</td>\n",
              "      <td>0</td>\n",
              "      <td>Unpossessed</td>\n",
              "      <td>546</td>\n",
              "      <td>988.190000</td>\n",
              "      <td>2</td>\n",
              "      <td>Urban</td>\n",
              "      <td>0</td>\n",
              "      <td>72440.58</td>\n",
              "      <td>36474.43</td>\n",
              "    </tr>\n",
              "    <tr>\n",
              "      <th>3</th>\n",
              "      <td>C-26480</td>\n",
              "      <td>Zoe Chitty</td>\n",
              "      <td>F</td>\n",
              "      <td>65</td>\n",
              "      <td>High</td>\n",
              "      <td>Pensioner</td>\n",
              "      <td>Laborers</td>\n",
              "      <td>Rural</td>\n",
              "      <td>298.54</td>\n",
              "      <td>N</td>\n",
              "      <td>Y</td>\n",
              "      <td>2.000000</td>\n",
              "      <td>832.70000</td>\n",
              "      <td>1</td>\n",
              "      <td>Unpossessed</td>\n",
              "      <td>890</td>\n",
              "      <td>2630.731729</td>\n",
              "      <td>2</td>\n",
              "      <td>Semi-Urban</td>\n",
              "      <td>1</td>\n",
              "      <td>121441.51</td>\n",
              "      <td>56040.54</td>\n",
              "    </tr>\n",
              "    <tr>\n",
              "      <th>4</th>\n",
              "      <td>C-23459</td>\n",
              "      <td>Afton Venema</td>\n",
              "      <td>F</td>\n",
              "      <td>31</td>\n",
              "      <td>Low</td>\n",
              "      <td>Working</td>\n",
              "      <td>High skill tech staff</td>\n",
              "      <td>Semi-Urban</td>\n",
              "      <td>491.41</td>\n",
              "      <td>N</td>\n",
              "      <td>Y</td>\n",
              "      <td>2.254443</td>\n",
              "      <td>745.55000</td>\n",
              "      <td>1</td>\n",
              "      <td>Active</td>\n",
              "      <td>715</td>\n",
              "      <td>2614.770000</td>\n",
              "      <td>4</td>\n",
              "      <td>Semi-Urban</td>\n",
              "      <td>1</td>\n",
              "      <td>208567.91</td>\n",
              "      <td>74008.28</td>\n",
              "    </tr>\n",
              "    <tr>\n",
              "      <th>...</th>\n",
              "      <td>...</td>\n",
              "      <td>...</td>\n",
              "      <td>...</td>\n",
              "      <td>...</td>\n",
              "      <td>...</td>\n",
              "      <td>...</td>\n",
              "      <td>...</td>\n",
              "      <td>...</td>\n",
              "      <td>...</td>\n",
              "      <td>...</td>\n",
              "      <td>...</td>\n",
              "      <td>...</td>\n",
              "      <td>...</td>\n",
              "      <td>...</td>\n",
              "      <td>...</td>\n",
              "      <td>...</td>\n",
              "      <td>...</td>\n",
              "      <td>...</td>\n",
              "      <td>...</td>\n",
              "      <td>...</td>\n",
              "      <td>...</td>\n",
              "      <td>...</td>\n",
              "    </tr>\n",
              "    <tr>\n",
              "      <th>29995</th>\n",
              "      <td>C-43723</td>\n",
              "      <td>Angelyn Clevenger</td>\n",
              "      <td>M</td>\n",
              "      <td>38</td>\n",
              "      <td>Low</td>\n",
              "      <td>Commercial associate</td>\n",
              "      <td>Managers</td>\n",
              "      <td>Urban</td>\n",
              "      <td>722.34</td>\n",
              "      <td>Y</td>\n",
              "      <td>Y</td>\n",
              "      <td>2.000000</td>\n",
              "      <td>869.61000</td>\n",
              "      <td>0</td>\n",
              "      <td>Unpossessed</td>\n",
              "      <td>566</td>\n",
              "      <td>4969.410000</td>\n",
              "      <td>4</td>\n",
              "      <td>Urban</td>\n",
              "      <td>1</td>\n",
              "      <td>111096.56</td>\n",
              "      <td>68992.11</td>\n",
              "    </tr>\n",
              "    <tr>\n",
              "      <th>29996</th>\n",
              "      <td>C-32511</td>\n",
              "      <td>Silas Slaugh</td>\n",
              "      <td>M</td>\n",
              "      <td>20</td>\n",
              "      <td>Low</td>\n",
              "      <td>Working</td>\n",
              "      <td>Laborers</td>\n",
              "      <td>Semi-Urban</td>\n",
              "      <td>253.04</td>\n",
              "      <td>N</td>\n",
              "      <td>N</td>\n",
              "      <td>3.000000</td>\n",
              "      <td>729.41000</td>\n",
              "      <td>0</td>\n",
              "      <td>Inactive</td>\n",
              "      <td>175</td>\n",
              "      <td>1606.880000</td>\n",
              "      <td>3</td>\n",
              "      <td>Urban</td>\n",
              "      <td>1</td>\n",
              "      <td>73453.94</td>\n",
              "      <td>46616.60</td>\n",
              "    </tr>\n",
              "    <tr>\n",
              "      <th>29997</th>\n",
              "      <td>C-5192</td>\n",
              "      <td>Carmelo Lone</td>\n",
              "      <td>F</td>\n",
              "      <td>49</td>\n",
              "      <td>Low</td>\n",
              "      <td>Working</td>\n",
              "      <td>Sales staff</td>\n",
              "      <td>Urban</td>\n",
              "      <td>583.11</td>\n",
              "      <td>N</td>\n",
              "      <td>Y</td>\n",
              "      <td>2.254443</td>\n",
              "      <td>739.84948</td>\n",
              "      <td>0</td>\n",
              "      <td>Active</td>\n",
              "      <td>959</td>\n",
              "      <td>2630.731729</td>\n",
              "      <td>1</td>\n",
              "      <td>Rural</td>\n",
              "      <td>1</td>\n",
              "      <td>102108.02</td>\n",
              "      <td>61057.56</td>\n",
              "    </tr>\n",
              "    <tr>\n",
              "      <th>29998</th>\n",
              "      <td>C-12172</td>\n",
              "      <td>Carolann Osby</td>\n",
              "      <td>M</td>\n",
              "      <td>38</td>\n",
              "      <td>Low</td>\n",
              "      <td>Working</td>\n",
              "      <td>Security staff</td>\n",
              "      <td>Semi-Urban</td>\n",
              "      <td>378.29</td>\n",
              "      <td>N</td>\n",
              "      <td>Y</td>\n",
              "      <td>3.000000</td>\n",
              "      <td>677.27000</td>\n",
              "      <td>1</td>\n",
              "      <td>Unpossessed</td>\n",
              "      <td>375</td>\n",
              "      <td>2417.710000</td>\n",
              "      <td>4</td>\n",
              "      <td>Urban</td>\n",
              "      <td>1</td>\n",
              "      <td>168194.47</td>\n",
              "      <td>99766.87</td>\n",
              "    </tr>\n",
              "    <tr>\n",
              "      <th>29999</th>\n",
              "      <td>C-33003</td>\n",
              "      <td>Bridget Garibaldi</td>\n",
              "      <td>F</td>\n",
              "      <td>63</td>\n",
              "      <td>High</td>\n",
              "      <td>Pensioner</td>\n",
              "      <td>Laborers</td>\n",
              "      <td>Rural</td>\n",
              "      <td>693.94</td>\n",
              "      <td>N</td>\n",
              "      <td>Y</td>\n",
              "      <td>1.000000</td>\n",
              "      <td>815.44000</td>\n",
              "      <td>0</td>\n",
              "      <td>Active</td>\n",
              "      <td>344</td>\n",
              "      <td>3068.240000</td>\n",
              "      <td>3</td>\n",
              "      <td>Rural</td>\n",
              "      <td>1</td>\n",
              "      <td>194512.60</td>\n",
              "      <td>117217.90</td>\n",
              "    </tr>\n",
              "  </tbody>\n",
              "</table>\n",
              "<p>29097 rows × 22 columns</p>\n",
              "</div>"
            ],
            "text/plain": [
              "      Customer_ID  ... Loan_Sanction_Amount_(USD)\n",
              "0         C-36995  ...                   54607.18\n",
              "1         C-33999  ...                   37469.98\n",
              "2          C-3770  ...                   36474.43\n",
              "3         C-26480  ...                   56040.54\n",
              "4         C-23459  ...                   74008.28\n",
              "...           ...  ...                        ...\n",
              "29995     C-43723  ...                   68992.11\n",
              "29996     C-32511  ...                   46616.60\n",
              "29997      C-5192  ...                   61057.56\n",
              "29998     C-12172  ...                   99766.87\n",
              "29999     C-33003  ...                  117217.90\n",
              "\n",
              "[29097 rows x 22 columns]"
            ]
          },
          "metadata": {
            "tags": []
          },
          "execution_count": 37
        }
      ]
    },
    {
      "cell_type": "code",
      "metadata": {
        "id": "61PSXZkn96mr",
        "colab": {
          "base_uri": "https://localhost:8080/"
        },
        "outputId": "87264da2-c7c5-4e8b-8bc2-098fd27a89b0"
      },
      "source": [
        "#Multi Collinearity\n",
        "# Import library for VIF\n",
        "from statsmodels.stats.outliers_influence import variance_inflation_factor\n",
        "\n",
        "def calc_vif(X):\n",
        "\n",
        "    # Calculating VIF\n",
        "    vif = panda.DataFrame()\n",
        "    vif[\"variables\"] = X.columns\n",
        "    vif[\"VIF\"] = [variance_inflation_factor(X.values, i) for i in range(X.shape[1])]\n",
        "\n",
        "    return(vif)\n",
        "   "
      ],
      "execution_count": 38,
      "outputs": [
        {
          "output_type": "stream",
          "text": [
            "/usr/local/lib/python3.7/dist-packages/statsmodels/tools/_testing.py:19: FutureWarning: pandas.util.testing is deprecated. Use the functions in the public API at pandas.testing instead.\n",
            "  import pandas.util.testing as tm\n"
          ],
          "name": "stderr"
        }
      ]
    },
    {
      "cell_type": "code",
      "metadata": {
        "colab": {
          "base_uri": "https://localhost:8080/",
          "height": 421
        },
        "id": "dnQkyF7u_BLR",
        "outputId": "f3a05ea6-d20a-41f3-d434-2687435c7ed2"
      },
      "source": [
        "X = loan_training_dataset_test1.select_dtypes(include=[np.number]).iloc[:,:-1]\n",
        "calc_vif(X)"
      ],
      "execution_count": 39,
      "outputs": [
        {
          "output_type": "execute_result",
          "data": {
            "text/html": [
              "<div>\n",
              "<style scoped>\n",
              "    .dataframe tbody tr th:only-of-type {\n",
              "        vertical-align: middle;\n",
              "    }\n",
              "\n",
              "    .dataframe tbody tr th {\n",
              "        vertical-align: top;\n",
              "    }\n",
              "\n",
              "    .dataframe thead th {\n",
              "        text-align: right;\n",
              "    }\n",
              "</style>\n",
              "<table border=\"1\" class=\"dataframe\">\n",
              "  <thead>\n",
              "    <tr style=\"text-align: right;\">\n",
              "      <th></th>\n",
              "      <th>variables</th>\n",
              "      <th>VIF</th>\n",
              "    </tr>\n",
              "  </thead>\n",
              "  <tbody>\n",
              "    <tr>\n",
              "      <th>0</th>\n",
              "      <td>Age</td>\n",
              "      <td>7.295989</td>\n",
              "    </tr>\n",
              "    <tr>\n",
              "      <th>1</th>\n",
              "      <td>Income_(USD)</td>\n",
              "      <td>2615.229397</td>\n",
              "    </tr>\n",
              "    <tr>\n",
              "      <th>2</th>\n",
              "      <td>Loan_Amount_Request_(USD)</td>\n",
              "      <td>35.132230</td>\n",
              "    </tr>\n",
              "    <tr>\n",
              "      <th>3</th>\n",
              "      <td>Current_Loan_Expenses_(USD)</td>\n",
              "      <td>7.052751</td>\n",
              "    </tr>\n",
              "    <tr>\n",
              "      <th>4</th>\n",
              "      <td>Dependents</td>\n",
              "      <td>6.561488</td>\n",
              "    </tr>\n",
              "    <tr>\n",
              "      <th>5</th>\n",
              "      <td>Credit_Score</td>\n",
              "      <td>22.433101</td>\n",
              "    </tr>\n",
              "    <tr>\n",
              "      <th>6</th>\n",
              "      <td>No._of_Defaults</td>\n",
              "      <td>1.239803</td>\n",
              "    </tr>\n",
              "    <tr>\n",
              "      <th>7</th>\n",
              "      <td>Property_ID</td>\n",
              "      <td>3.939618</td>\n",
              "    </tr>\n",
              "    <tr>\n",
              "      <th>8</th>\n",
              "      <td>Property_Age</td>\n",
              "      <td>2622.188506</td>\n",
              "    </tr>\n",
              "    <tr>\n",
              "      <th>9</th>\n",
              "      <td>Property_Type</td>\n",
              "      <td>5.647068</td>\n",
              "    </tr>\n",
              "    <tr>\n",
              "      <th>10</th>\n",
              "      <td>Co-Applicant</td>\n",
              "      <td>1.004394</td>\n",
              "    </tr>\n",
              "    <tr>\n",
              "      <th>11</th>\n",
              "      <td>Property_Price</td>\n",
              "      <td>29.932260</td>\n",
              "    </tr>\n",
              "  </tbody>\n",
              "</table>\n",
              "</div>"
            ],
            "text/plain": [
              "                      variables          VIF\n",
              "0                           Age     7.295989\n",
              "1                  Income_(USD)  2615.229397\n",
              "2     Loan_Amount_Request_(USD)    35.132230\n",
              "3   Current_Loan_Expenses_(USD)     7.052751\n",
              "4                    Dependents     6.561488\n",
              "5                  Credit_Score    22.433101\n",
              "6               No._of_Defaults     1.239803\n",
              "7                   Property_ID     3.939618\n",
              "8                  Property_Age  2622.188506\n",
              "9                 Property_Type     5.647068\n",
              "10                 Co-Applicant     1.004394\n",
              "11               Property_Price    29.932260"
            ]
          },
          "metadata": {
            "tags": []
          },
          "execution_count": 39
        }
      ]
    },
    {
      "cell_type": "code",
      "metadata": {
        "colab": {
          "base_uri": "https://localhost:8080/",
          "height": 390
        },
        "id": "gc8O9sZBACNl",
        "outputId": "fc847835-3182-461a-a367-05c680958bd6"
      },
      "source": [
        "#Dropping Property age as it constitutes highest VIF\n",
        "loan_training_dataset_test1= loan_training_dataset_test1.drop(['Property_Age'], axis = 1)\n",
        "X = loan_training_dataset_test1.select_dtypes(include=[np.number]).iloc[:,:-1]\n",
        "calc_vif(X)"
      ],
      "execution_count": 40,
      "outputs": [
        {
          "output_type": "execute_result",
          "data": {
            "text/html": [
              "<div>\n",
              "<style scoped>\n",
              "    .dataframe tbody tr th:only-of-type {\n",
              "        vertical-align: middle;\n",
              "    }\n",
              "\n",
              "    .dataframe tbody tr th {\n",
              "        vertical-align: top;\n",
              "    }\n",
              "\n",
              "    .dataframe thead th {\n",
              "        text-align: right;\n",
              "    }\n",
              "</style>\n",
              "<table border=\"1\" class=\"dataframe\">\n",
              "  <thead>\n",
              "    <tr style=\"text-align: right;\">\n",
              "      <th></th>\n",
              "      <th>variables</th>\n",
              "      <th>VIF</th>\n",
              "    </tr>\n",
              "  </thead>\n",
              "  <tbody>\n",
              "    <tr>\n",
              "      <th>0</th>\n",
              "      <td>Age</td>\n",
              "      <td>7.295968</td>\n",
              "    </tr>\n",
              "    <tr>\n",
              "      <th>1</th>\n",
              "      <td>Income_(USD)</td>\n",
              "      <td>1.062740</td>\n",
              "    </tr>\n",
              "    <tr>\n",
              "      <th>2</th>\n",
              "      <td>Loan_Amount_Request_(USD)</td>\n",
              "      <td>35.128766</td>\n",
              "    </tr>\n",
              "    <tr>\n",
              "      <th>3</th>\n",
              "      <td>Current_Loan_Expenses_(USD)</td>\n",
              "      <td>7.049555</td>\n",
              "    </tr>\n",
              "    <tr>\n",
              "      <th>4</th>\n",
              "      <td>Dependents</td>\n",
              "      <td>6.561333</td>\n",
              "    </tr>\n",
              "    <tr>\n",
              "      <th>5</th>\n",
              "      <td>Credit_Score</td>\n",
              "      <td>22.343889</td>\n",
              "    </tr>\n",
              "    <tr>\n",
              "      <th>6</th>\n",
              "      <td>No._of_Defaults</td>\n",
              "      <td>1.239708</td>\n",
              "    </tr>\n",
              "    <tr>\n",
              "      <th>7</th>\n",
              "      <td>Property_ID</td>\n",
              "      <td>3.939492</td>\n",
              "    </tr>\n",
              "    <tr>\n",
              "      <th>8</th>\n",
              "      <td>Property_Type</td>\n",
              "      <td>5.646825</td>\n",
              "    </tr>\n",
              "    <tr>\n",
              "      <th>9</th>\n",
              "      <td>Co-Applicant</td>\n",
              "      <td>1.004148</td>\n",
              "    </tr>\n",
              "    <tr>\n",
              "      <th>10</th>\n",
              "      <td>Property_Price</td>\n",
              "      <td>29.928275</td>\n",
              "    </tr>\n",
              "  </tbody>\n",
              "</table>\n",
              "</div>"
            ],
            "text/plain": [
              "                      variables        VIF\n",
              "0                           Age   7.295968\n",
              "1                  Income_(USD)   1.062740\n",
              "2     Loan_Amount_Request_(USD)  35.128766\n",
              "3   Current_Loan_Expenses_(USD)   7.049555\n",
              "4                    Dependents   6.561333\n",
              "5                  Credit_Score  22.343889\n",
              "6               No._of_Defaults   1.239708\n",
              "7                   Property_ID   3.939492\n",
              "8                 Property_Type   5.646825\n",
              "9                  Co-Applicant   1.004148\n",
              "10               Property_Price  29.928275"
            ]
          },
          "metadata": {
            "tags": []
          },
          "execution_count": 40
        }
      ]
    },
    {
      "cell_type": "code",
      "metadata": {
        "colab": {
          "base_uri": "https://localhost:8080/",
          "height": 359
        },
        "id": "E0_-jRf61VBk",
        "outputId": "ed8d2144-162f-4d23-f7a9-ff7075d06048"
      },
      "source": [
        "#Dropping Loan_Amount_Request_(USD) as it constitutes highest VIF next\n",
        "loan_training_dataset_test1= loan_training_dataset_test1.drop(['Loan_Amount_Request_(USD)'], axis = 1)\n",
        "X = loan_training_dataset_test1.select_dtypes(include=[np.number]).iloc[:,:-1]\n",
        "calc_vif(X)"
      ],
      "execution_count": 41,
      "outputs": [
        {
          "output_type": "execute_result",
          "data": {
            "text/html": [
              "<div>\n",
              "<style scoped>\n",
              "    .dataframe tbody tr th:only-of-type {\n",
              "        vertical-align: middle;\n",
              "    }\n",
              "\n",
              "    .dataframe tbody tr th {\n",
              "        vertical-align: top;\n",
              "    }\n",
              "\n",
              "    .dataframe thead th {\n",
              "        text-align: right;\n",
              "    }\n",
              "</style>\n",
              "<table border=\"1\" class=\"dataframe\">\n",
              "  <thead>\n",
              "    <tr style=\"text-align: right;\">\n",
              "      <th></th>\n",
              "      <th>variables</th>\n",
              "      <th>VIF</th>\n",
              "    </tr>\n",
              "  </thead>\n",
              "  <tbody>\n",
              "    <tr>\n",
              "      <th>0</th>\n",
              "      <td>Age</td>\n",
              "      <td>7.295809</td>\n",
              "    </tr>\n",
              "    <tr>\n",
              "      <th>1</th>\n",
              "      <td>Income_(USD)</td>\n",
              "      <td>1.062736</td>\n",
              "    </tr>\n",
              "    <tr>\n",
              "      <th>2</th>\n",
              "      <td>Current_Loan_Expenses_(USD)</td>\n",
              "      <td>6.505396</td>\n",
              "    </tr>\n",
              "    <tr>\n",
              "      <th>3</th>\n",
              "      <td>Dependents</td>\n",
              "      <td>6.561195</td>\n",
              "    </tr>\n",
              "    <tr>\n",
              "      <th>4</th>\n",
              "      <td>Credit_Score</td>\n",
              "      <td>22.279302</td>\n",
              "    </tr>\n",
              "    <tr>\n",
              "      <th>5</th>\n",
              "      <td>No._of_Defaults</td>\n",
              "      <td>1.239639</td>\n",
              "    </tr>\n",
              "    <tr>\n",
              "      <th>6</th>\n",
              "      <td>Property_ID</td>\n",
              "      <td>3.939318</td>\n",
              "    </tr>\n",
              "    <tr>\n",
              "      <th>7</th>\n",
              "      <td>Property_Type</td>\n",
              "      <td>5.646434</td>\n",
              "    </tr>\n",
              "    <tr>\n",
              "      <th>8</th>\n",
              "      <td>Co-Applicant</td>\n",
              "      <td>1.004036</td>\n",
              "    </tr>\n",
              "    <tr>\n",
              "      <th>9</th>\n",
              "      <td>Property_Price</td>\n",
              "      <td>5.243422</td>\n",
              "    </tr>\n",
              "  </tbody>\n",
              "</table>\n",
              "</div>"
            ],
            "text/plain": [
              "                     variables        VIF\n",
              "0                          Age   7.295809\n",
              "1                 Income_(USD)   1.062736\n",
              "2  Current_Loan_Expenses_(USD)   6.505396\n",
              "3                   Dependents   6.561195\n",
              "4                 Credit_Score  22.279302\n",
              "5              No._of_Defaults   1.239639\n",
              "6                  Property_ID   3.939318\n",
              "7                Property_Type   5.646434\n",
              "8                 Co-Applicant   1.004036\n",
              "9               Property_Price   5.243422"
            ]
          },
          "metadata": {
            "tags": []
          },
          "execution_count": 41
        }
      ]
    },
    {
      "cell_type": "code",
      "metadata": {
        "colab": {
          "base_uri": "https://localhost:8080/",
          "height": 328
        },
        "id": "NHt1Ayc419pk",
        "outputId": "deea1803-d821-418f-d3c4-119e6be8dbd4"
      },
      "source": [
        "#Dropping Credit_Score as it constitutes highest VIF next\n",
        "loan_training_dataset_test1= loan_training_dataset_test1.drop(['Credit_Score'], axis = 1)\n",
        "X = loan_training_dataset_test1.select_dtypes(include=[np.number]).iloc[:,:-1]\n",
        "calc_vif(X)"
      ],
      "execution_count": 42,
      "outputs": [
        {
          "output_type": "execute_result",
          "data": {
            "text/html": [
              "<div>\n",
              "<style scoped>\n",
              "    .dataframe tbody tr th:only-of-type {\n",
              "        vertical-align: middle;\n",
              "    }\n",
              "\n",
              "    .dataframe tbody tr th {\n",
              "        vertical-align: top;\n",
              "    }\n",
              "\n",
              "    .dataframe thead th {\n",
              "        text-align: right;\n",
              "    }\n",
              "</style>\n",
              "<table border=\"1\" class=\"dataframe\">\n",
              "  <thead>\n",
              "    <tr style=\"text-align: right;\">\n",
              "      <th></th>\n",
              "      <th>variables</th>\n",
              "      <th>VIF</th>\n",
              "    </tr>\n",
              "  </thead>\n",
              "  <tbody>\n",
              "    <tr>\n",
              "      <th>0</th>\n",
              "      <td>Age</td>\n",
              "      <td>5.124330</td>\n",
              "    </tr>\n",
              "    <tr>\n",
              "      <th>1</th>\n",
              "      <td>Income_(USD)</td>\n",
              "      <td>1.061670</td>\n",
              "    </tr>\n",
              "    <tr>\n",
              "      <th>2</th>\n",
              "      <td>Current_Loan_Expenses_(USD)</td>\n",
              "      <td>6.309475</td>\n",
              "    </tr>\n",
              "    <tr>\n",
              "      <th>3</th>\n",
              "      <td>Dependents</td>\n",
              "      <td>5.225506</td>\n",
              "    </tr>\n",
              "    <tr>\n",
              "      <th>4</th>\n",
              "      <td>No._of_Defaults</td>\n",
              "      <td>1.230692</td>\n",
              "    </tr>\n",
              "    <tr>\n",
              "      <th>5</th>\n",
              "      <td>Property_ID</td>\n",
              "      <td>3.533413</td>\n",
              "    </tr>\n",
              "    <tr>\n",
              "      <th>6</th>\n",
              "      <td>Property_Type</td>\n",
              "      <td>4.750715</td>\n",
              "    </tr>\n",
              "    <tr>\n",
              "      <th>7</th>\n",
              "      <td>Co-Applicant</td>\n",
              "      <td>1.003854</td>\n",
              "    </tr>\n",
              "    <tr>\n",
              "      <th>8</th>\n",
              "      <td>Property_Price</td>\n",
              "      <td>5.158771</td>\n",
              "    </tr>\n",
              "  </tbody>\n",
              "</table>\n",
              "</div>"
            ],
            "text/plain": [
              "                     variables       VIF\n",
              "0                          Age  5.124330\n",
              "1                 Income_(USD)  1.061670\n",
              "2  Current_Loan_Expenses_(USD)  6.309475\n",
              "3                   Dependents  5.225506\n",
              "4              No._of_Defaults  1.230692\n",
              "5                  Property_ID  3.533413\n",
              "6                Property_Type  4.750715\n",
              "7                 Co-Applicant  1.003854\n",
              "8               Property_Price  5.158771"
            ]
          },
          "metadata": {
            "tags": []
          },
          "execution_count": 42
        }
      ]
    },
    {
      "cell_type": "code",
      "metadata": {
        "id": "tXjDHkGb4pHK"
      },
      "source": [
        " X=loan_training_dataset_test1.select_dtypes(exclude=[np.number])"
      ],
      "execution_count": 43,
      "outputs": []
    },
    {
      "cell_type": "code",
      "metadata": {
        "colab": {
          "base_uri": "https://localhost:8080/"
        },
        "id": "o29atckLTmpS",
        "outputId": "3d84c0ed-0723-49d0-cda5-0914b167863d"
      },
      "source": [
        "X.isnull().sum()"
      ],
      "execution_count": 44,
      "outputs": [
        {
          "output_type": "execute_result",
          "data": {
            "text/plain": [
              "Customer_ID               0\n",
              "Name                      0\n",
              "Gender                    0\n",
              "Income_Stability          0\n",
              "Profession                0\n",
              "Type_of_Employment        0\n",
              "Location                  0\n",
              "Expense_Type_1            0\n",
              "Expense_Type_2            0\n",
              "Has_Active_Credit_Card    0\n",
              "Property_Location         0\n",
              "dtype: int64"
            ]
          },
          "metadata": {
            "tags": []
          },
          "execution_count": 44
        }
      ]
    },
    {
      "cell_type": "code",
      "metadata": {
        "colab": {
          "base_uri": "https://localhost:8080/",
          "height": 419
        },
        "id": "KY__jr97bG7a",
        "outputId": "a278501b-40e4-43a4-d233-6927b6c30d1c"
      },
      "source": [
        "X"
      ],
      "execution_count": 45,
      "outputs": [
        {
          "output_type": "execute_result",
          "data": {
            "text/html": [
              "<div>\n",
              "<style scoped>\n",
              "    .dataframe tbody tr th:only-of-type {\n",
              "        vertical-align: middle;\n",
              "    }\n",
              "\n",
              "    .dataframe tbody tr th {\n",
              "        vertical-align: top;\n",
              "    }\n",
              "\n",
              "    .dataframe thead th {\n",
              "        text-align: right;\n",
              "    }\n",
              "</style>\n",
              "<table border=\"1\" class=\"dataframe\">\n",
              "  <thead>\n",
              "    <tr style=\"text-align: right;\">\n",
              "      <th></th>\n",
              "      <th>Customer_ID</th>\n",
              "      <th>Name</th>\n",
              "      <th>Gender</th>\n",
              "      <th>Income_Stability</th>\n",
              "      <th>Profession</th>\n",
              "      <th>Type_of_Employment</th>\n",
              "      <th>Location</th>\n",
              "      <th>Expense_Type_1</th>\n",
              "      <th>Expense_Type_2</th>\n",
              "      <th>Has_Active_Credit_Card</th>\n",
              "      <th>Property_Location</th>\n",
              "    </tr>\n",
              "  </thead>\n",
              "  <tbody>\n",
              "    <tr>\n",
              "      <th>0</th>\n",
              "      <td>C-36995</td>\n",
              "      <td>Frederica Shealy</td>\n",
              "      <td>F</td>\n",
              "      <td>Low</td>\n",
              "      <td>Working</td>\n",
              "      <td>Sales staff</td>\n",
              "      <td>Semi-Urban</td>\n",
              "      <td>N</td>\n",
              "      <td>N</td>\n",
              "      <td>Active</td>\n",
              "      <td>Rural</td>\n",
              "    </tr>\n",
              "    <tr>\n",
              "      <th>1</th>\n",
              "      <td>C-33999</td>\n",
              "      <td>America Calderone</td>\n",
              "      <td>M</td>\n",
              "      <td>Low</td>\n",
              "      <td>Working</td>\n",
              "      <td>Laborers</td>\n",
              "      <td>Semi-Urban</td>\n",
              "      <td>N</td>\n",
              "      <td>Y</td>\n",
              "      <td>Unpossessed</td>\n",
              "      <td>Rural</td>\n",
              "    </tr>\n",
              "    <tr>\n",
              "      <th>2</th>\n",
              "      <td>C-3770</td>\n",
              "      <td>Rosetta Verne</td>\n",
              "      <td>F</td>\n",
              "      <td>High</td>\n",
              "      <td>Pensioner</td>\n",
              "      <td>Laborers</td>\n",
              "      <td>Semi-Urban</td>\n",
              "      <td>N</td>\n",
              "      <td>Y</td>\n",
              "      <td>Unpossessed</td>\n",
              "      <td>Urban</td>\n",
              "    </tr>\n",
              "    <tr>\n",
              "      <th>3</th>\n",
              "      <td>C-26480</td>\n",
              "      <td>Zoe Chitty</td>\n",
              "      <td>F</td>\n",
              "      <td>High</td>\n",
              "      <td>Pensioner</td>\n",
              "      <td>Laborers</td>\n",
              "      <td>Rural</td>\n",
              "      <td>N</td>\n",
              "      <td>Y</td>\n",
              "      <td>Unpossessed</td>\n",
              "      <td>Semi-Urban</td>\n",
              "    </tr>\n",
              "    <tr>\n",
              "      <th>4</th>\n",
              "      <td>C-23459</td>\n",
              "      <td>Afton Venema</td>\n",
              "      <td>F</td>\n",
              "      <td>Low</td>\n",
              "      <td>Working</td>\n",
              "      <td>High skill tech staff</td>\n",
              "      <td>Semi-Urban</td>\n",
              "      <td>N</td>\n",
              "      <td>Y</td>\n",
              "      <td>Active</td>\n",
              "      <td>Semi-Urban</td>\n",
              "    </tr>\n",
              "    <tr>\n",
              "      <th>...</th>\n",
              "      <td>...</td>\n",
              "      <td>...</td>\n",
              "      <td>...</td>\n",
              "      <td>...</td>\n",
              "      <td>...</td>\n",
              "      <td>...</td>\n",
              "      <td>...</td>\n",
              "      <td>...</td>\n",
              "      <td>...</td>\n",
              "      <td>...</td>\n",
              "      <td>...</td>\n",
              "    </tr>\n",
              "    <tr>\n",
              "      <th>29995</th>\n",
              "      <td>C-43723</td>\n",
              "      <td>Angelyn Clevenger</td>\n",
              "      <td>M</td>\n",
              "      <td>Low</td>\n",
              "      <td>Commercial associate</td>\n",
              "      <td>Managers</td>\n",
              "      <td>Urban</td>\n",
              "      <td>Y</td>\n",
              "      <td>Y</td>\n",
              "      <td>Unpossessed</td>\n",
              "      <td>Urban</td>\n",
              "    </tr>\n",
              "    <tr>\n",
              "      <th>29996</th>\n",
              "      <td>C-32511</td>\n",
              "      <td>Silas Slaugh</td>\n",
              "      <td>M</td>\n",
              "      <td>Low</td>\n",
              "      <td>Working</td>\n",
              "      <td>Laborers</td>\n",
              "      <td>Semi-Urban</td>\n",
              "      <td>N</td>\n",
              "      <td>N</td>\n",
              "      <td>Inactive</td>\n",
              "      <td>Urban</td>\n",
              "    </tr>\n",
              "    <tr>\n",
              "      <th>29997</th>\n",
              "      <td>C-5192</td>\n",
              "      <td>Carmelo Lone</td>\n",
              "      <td>F</td>\n",
              "      <td>Low</td>\n",
              "      <td>Working</td>\n",
              "      <td>Sales staff</td>\n",
              "      <td>Urban</td>\n",
              "      <td>N</td>\n",
              "      <td>Y</td>\n",
              "      <td>Active</td>\n",
              "      <td>Rural</td>\n",
              "    </tr>\n",
              "    <tr>\n",
              "      <th>29998</th>\n",
              "      <td>C-12172</td>\n",
              "      <td>Carolann Osby</td>\n",
              "      <td>M</td>\n",
              "      <td>Low</td>\n",
              "      <td>Working</td>\n",
              "      <td>Security staff</td>\n",
              "      <td>Semi-Urban</td>\n",
              "      <td>N</td>\n",
              "      <td>Y</td>\n",
              "      <td>Unpossessed</td>\n",
              "      <td>Urban</td>\n",
              "    </tr>\n",
              "    <tr>\n",
              "      <th>29999</th>\n",
              "      <td>C-33003</td>\n",
              "      <td>Bridget Garibaldi</td>\n",
              "      <td>F</td>\n",
              "      <td>High</td>\n",
              "      <td>Pensioner</td>\n",
              "      <td>Laborers</td>\n",
              "      <td>Rural</td>\n",
              "      <td>N</td>\n",
              "      <td>Y</td>\n",
              "      <td>Active</td>\n",
              "      <td>Rural</td>\n",
              "    </tr>\n",
              "  </tbody>\n",
              "</table>\n",
              "<p>29097 rows × 11 columns</p>\n",
              "</div>"
            ],
            "text/plain": [
              "      Customer_ID               Name  ... Has_Active_Credit_Card Property_Location\n",
              "0         C-36995   Frederica Shealy  ...                 Active             Rural\n",
              "1         C-33999  America Calderone  ...            Unpossessed             Rural\n",
              "2          C-3770      Rosetta Verne  ...            Unpossessed             Urban\n",
              "3         C-26480         Zoe Chitty  ...            Unpossessed        Semi-Urban\n",
              "4         C-23459       Afton Venema  ...                 Active        Semi-Urban\n",
              "...           ...                ...  ...                    ...               ...\n",
              "29995     C-43723  Angelyn Clevenger  ...            Unpossessed             Urban\n",
              "29996     C-32511       Silas Slaugh  ...               Inactive             Urban\n",
              "29997      C-5192       Carmelo Lone  ...                 Active             Rural\n",
              "29998     C-12172      Carolann Osby  ...            Unpossessed             Urban\n",
              "29999     C-33003  Bridget Garibaldi  ...                 Active             Rural\n",
              "\n",
              "[29097 rows x 11 columns]"
            ]
          },
          "metadata": {
            "tags": []
          },
          "execution_count": 45
        }
      ]
    },
    {
      "cell_type": "code",
      "metadata": {
        "colab": {
          "base_uri": "https://localhost:8080/",
          "height": 142
        },
        "id": "trkySj_ZfKzZ",
        "outputId": "f1140061-65dd-4b05-826a-48f31ae223e2"
      },
      "source": [
        "crosstab = panda.crosstab(loan_training_dataset_test1[\"Gender\"], loan_training_dataset_test1[\"Has_Active_Credit_Card\"])\n",
        "crosstab"
      ],
      "execution_count": 46,
      "outputs": [
        {
          "output_type": "execute_result",
          "data": {
            "text/html": [
              "<div>\n",
              "<style scoped>\n",
              "    .dataframe tbody tr th:only-of-type {\n",
              "        vertical-align: middle;\n",
              "    }\n",
              "\n",
              "    .dataframe tbody tr th {\n",
              "        vertical-align: top;\n",
              "    }\n",
              "\n",
              "    .dataframe thead th {\n",
              "        text-align: right;\n",
              "    }\n",
              "</style>\n",
              "<table border=\"1\" class=\"dataframe\">\n",
              "  <thead>\n",
              "    <tr style=\"text-align: right;\">\n",
              "      <th>Has_Active_Credit_Card</th>\n",
              "      <th>Active</th>\n",
              "      <th>Inactive</th>\n",
              "      <th>Unpossessed</th>\n",
              "    </tr>\n",
              "    <tr>\n",
              "      <th>Gender</th>\n",
              "      <th></th>\n",
              "      <th></th>\n",
              "      <th></th>\n",
              "    </tr>\n",
              "  </thead>\n",
              "  <tbody>\n",
              "    <tr>\n",
              "      <th>F</th>\n",
              "      <td>5526</td>\n",
              "      <td>4557</td>\n",
              "      <td>4381</td>\n",
              "    </tr>\n",
              "    <tr>\n",
              "      <th>M</th>\n",
              "      <td>5460</td>\n",
              "      <td>4627</td>\n",
              "      <td>4546</td>\n",
              "    </tr>\n",
              "  </tbody>\n",
              "</table>\n",
              "</div>"
            ],
            "text/plain": [
              "Has_Active_Credit_Card  Active  Inactive  Unpossessed\n",
              "Gender                                               \n",
              "F                         5526      4557         4381\n",
              "M                         5460      4627         4546"
            ]
          },
          "metadata": {
            "tags": []
          },
          "execution_count": 46
        }
      ]
    },
    {
      "cell_type": "code",
      "metadata": {
        "colab": {
          "base_uri": "https://localhost:8080/"
        },
        "id": "OFTh4jKufv_1",
        "outputId": "2c9daed8-1b86-4fc5-ba18-d3943e061a03"
      },
      "source": [
        "\n",
        "import scipy.stats as stats\n",
        "\n",
        "stats.chi2_contingency(crosstab)\n"
      ],
      "execution_count": 47,
      "outputs": [
        {
          "output_type": "execute_result",
          "data": {
            "text/plain": [
              "(2.9983002711698,\n",
              " 0.22331987113436513,\n",
              " 2,\n",
              " array([[5461.09578307, 4565.32893425, 4437.57528268],\n",
              "        [5524.90421693, 4618.67106575, 4489.42471732]]))"
            ]
          },
          "metadata": {
            "tags": []
          },
          "execution_count": 47
        }
      ]
    },
    {
      "cell_type": "code",
      "metadata": {
        "colab": {
          "base_uri": "https://localhost:8080/",
          "height": 111
        },
        "id": "kwO7Cr-HvfQY",
        "outputId": "42aff293-09ca-40f3-f5d8-3f9230b70d95"
      },
      "source": [
        "#Perform one way Anova\n",
        "\n",
        "import statsmodels.api as sm\n",
        "from statsmodels.formula.api import ols\n",
        "loan_training_dataset_test1= loan_training_dataset_test1.rename(columns = {\"Loan_Sanction_Amount_(USD)\":\"Loan_Sanction_Amount\"})\n",
        "\n",
        "mod1=ols('Loan_Sanction_Amount~Gender',data=loan_training_dataset_test1).fit()\n",
        "mod2=ols('Loan_Sanction_Amount~Income_Stability',data=loan_training_dataset_test1).fit()\n",
        "mod3=ols('Loan_Sanction_Amount~Profession',data=loan_training_dataset_test1).fit()\n",
        "mod4=ols('Loan_Sanction_Amount~Type_of_Employment',data=loan_training_dataset_test1).fit()\n",
        "mod5=ols('Loan_Sanction_Amount~Location',data=loan_training_dataset_test1).fit()\n",
        "mod6=ols('Loan_Sanction_Amount~Expense_Type_1',data=loan_training_dataset_test1).fit()\n",
        "mod7=ols('Loan_Sanction_Amount~Expense_Type_2',data=loan_training_dataset_test1).fit()\n",
        "mod8=ols('Loan_Sanction_Amount~Has_Active_Credit_Card',data=loan_training_dataset_test1).fit()\n",
        "mod9=ols('Loan_Sanction_Amount~Property_Location',data=loan_training_dataset_test1).fit()\n",
        "\n",
        "aov1=sm.stats.anova_lm(mod1,type=2)\n",
        "aov2=sm.stats.anova_lm(mod2,type=2)\n",
        "aov3=sm.stats.anova_lm(mod3,type=2)\n",
        "aov4=sm.stats.anova_lm(mod4,type=2)\n",
        "aov5=sm.stats.anova_lm(mod5,type=2)\n",
        "aov6=sm.stats.anova_lm(mod6,type=2)\n",
        "aov7=sm.stats.anova_lm(mod7,type=2)\n",
        "aov8=sm.stats.anova_lm(mod8,type=2)\n",
        "aov9=sm.stats.anova_lm(mod9,type=2)\n",
        "\n",
        "aov1\n"
      ],
      "execution_count": 48,
      "outputs": [
        {
          "output_type": "execute_result",
          "data": {
            "text/html": [
              "<div>\n",
              "<style scoped>\n",
              "    .dataframe tbody tr th:only-of-type {\n",
              "        vertical-align: middle;\n",
              "    }\n",
              "\n",
              "    .dataframe tbody tr th {\n",
              "        vertical-align: top;\n",
              "    }\n",
              "\n",
              "    .dataframe thead th {\n",
              "        text-align: right;\n",
              "    }\n",
              "</style>\n",
              "<table border=\"1\" class=\"dataframe\">\n",
              "  <thead>\n",
              "    <tr style=\"text-align: right;\">\n",
              "      <th></th>\n",
              "      <th>df</th>\n",
              "      <th>sum_sq</th>\n",
              "      <th>mean_sq</th>\n",
              "      <th>F</th>\n",
              "      <th>PR(&gt;F)</th>\n",
              "    </tr>\n",
              "  </thead>\n",
              "  <tbody>\n",
              "    <tr>\n",
              "      <th>Gender</th>\n",
              "      <td>1.0</td>\n",
              "      <td>9.407500e+08</td>\n",
              "      <td>9.407500e+08</td>\n",
              "      <td>0.404283</td>\n",
              "      <td>0.524891</td>\n",
              "    </tr>\n",
              "    <tr>\n",
              "      <th>Residual</th>\n",
              "      <td>29095.0</td>\n",
              "      <td>6.770293e+13</td>\n",
              "      <td>2.326961e+09</td>\n",
              "      <td>NaN</td>\n",
              "      <td>NaN</td>\n",
              "    </tr>\n",
              "  </tbody>\n",
              "</table>\n",
              "</div>"
            ],
            "text/plain": [
              "               df        sum_sq       mean_sq         F    PR(>F)\n",
              "Gender        1.0  9.407500e+08  9.407500e+08  0.404283  0.524891\n",
              "Residual  29095.0  6.770293e+13  2.326961e+09       NaN       NaN"
            ]
          },
          "metadata": {
            "tags": []
          },
          "execution_count": 48
        }
      ]
    },
    {
      "cell_type": "code",
      "metadata": {
        "colab": {
          "base_uri": "https://localhost:8080/",
          "height": 111
        },
        "id": "1XF9NdqXyYjw",
        "outputId": "8cf1a78d-d53a-43b5-94dc-f597116bc136"
      },
      "source": [
        "aov2"
      ],
      "execution_count": 49,
      "outputs": [
        {
          "output_type": "execute_result",
          "data": {
            "text/html": [
              "<div>\n",
              "<style scoped>\n",
              "    .dataframe tbody tr th:only-of-type {\n",
              "        vertical-align: middle;\n",
              "    }\n",
              "\n",
              "    .dataframe tbody tr th {\n",
              "        vertical-align: top;\n",
              "    }\n",
              "\n",
              "    .dataframe thead th {\n",
              "        text-align: right;\n",
              "    }\n",
              "</style>\n",
              "<table border=\"1\" class=\"dataframe\">\n",
              "  <thead>\n",
              "    <tr style=\"text-align: right;\">\n",
              "      <th></th>\n",
              "      <th>df</th>\n",
              "      <th>sum_sq</th>\n",
              "      <th>mean_sq</th>\n",
              "      <th>F</th>\n",
              "      <th>PR(&gt;F)</th>\n",
              "    </tr>\n",
              "  </thead>\n",
              "  <tbody>\n",
              "    <tr>\n",
              "      <th>Income_Stability</th>\n",
              "      <td>1.0</td>\n",
              "      <td>1.125843e+11</td>\n",
              "      <td>1.125843e+11</td>\n",
              "      <td>48.462464</td>\n",
              "      <td>3.438107e-12</td>\n",
              "    </tr>\n",
              "    <tr>\n",
              "      <th>Residual</th>\n",
              "      <td>29095.0</td>\n",
              "      <td>6.759128e+13</td>\n",
              "      <td>2.323124e+09</td>\n",
              "      <td>NaN</td>\n",
              "      <td>NaN</td>\n",
              "    </tr>\n",
              "  </tbody>\n",
              "</table>\n",
              "</div>"
            ],
            "text/plain": [
              "                       df        sum_sq       mean_sq          F        PR(>F)\n",
              "Income_Stability      1.0  1.125843e+11  1.125843e+11  48.462464  3.438107e-12\n",
              "Residual          29095.0  6.759128e+13  2.323124e+09        NaN           NaN"
            ]
          },
          "metadata": {
            "tags": []
          },
          "execution_count": 49
        }
      ]
    },
    {
      "cell_type": "code",
      "metadata": {
        "colab": {
          "base_uri": "https://localhost:8080/",
          "height": 111
        },
        "id": "cQbrBEiGyr9n",
        "outputId": "133356b5-5f59-46dd-8363-1fe6f3d00b19"
      },
      "source": [
        "aov3"
      ],
      "execution_count": 50,
      "outputs": [
        {
          "output_type": "execute_result",
          "data": {
            "text/html": [
              "<div>\n",
              "<style scoped>\n",
              "    .dataframe tbody tr th:only-of-type {\n",
              "        vertical-align: middle;\n",
              "    }\n",
              "\n",
              "    .dataframe tbody tr th {\n",
              "        vertical-align: top;\n",
              "    }\n",
              "\n",
              "    .dataframe thead th {\n",
              "        text-align: right;\n",
              "    }\n",
              "</style>\n",
              "<table border=\"1\" class=\"dataframe\">\n",
              "  <thead>\n",
              "    <tr style=\"text-align: right;\">\n",
              "      <th></th>\n",
              "      <th>df</th>\n",
              "      <th>sum_sq</th>\n",
              "      <th>mean_sq</th>\n",
              "      <th>F</th>\n",
              "      <th>PR(&gt;F)</th>\n",
              "    </tr>\n",
              "  </thead>\n",
              "  <tbody>\n",
              "    <tr>\n",
              "      <th>Profession</th>\n",
              "      <td>7.0</td>\n",
              "      <td>7.266475e+11</td>\n",
              "      <td>1.038068e+11</td>\n",
              "      <td>45.084517</td>\n",
              "      <td>6.429806e-64</td>\n",
              "    </tr>\n",
              "    <tr>\n",
              "      <th>Residual</th>\n",
              "      <td>29089.0</td>\n",
              "      <td>6.697722e+13</td>\n",
              "      <td>2.302493e+09</td>\n",
              "      <td>NaN</td>\n",
              "      <td>NaN</td>\n",
              "    </tr>\n",
              "  </tbody>\n",
              "</table>\n",
              "</div>"
            ],
            "text/plain": [
              "                 df        sum_sq       mean_sq          F        PR(>F)\n",
              "Profession      7.0  7.266475e+11  1.038068e+11  45.084517  6.429806e-64\n",
              "Residual    29089.0  6.697722e+13  2.302493e+09        NaN           NaN"
            ]
          },
          "metadata": {
            "tags": []
          },
          "execution_count": 50
        }
      ]
    },
    {
      "cell_type": "code",
      "metadata": {
        "colab": {
          "base_uri": "https://localhost:8080/",
          "height": 111
        },
        "id": "i-6eohcOysdE",
        "outputId": "d9545654-0201-4e2c-bcd4-36876cd45282"
      },
      "source": [
        "aov4"
      ],
      "execution_count": 51,
      "outputs": [
        {
          "output_type": "execute_result",
          "data": {
            "text/html": [
              "<div>\n",
              "<style scoped>\n",
              "    .dataframe tbody tr th:only-of-type {\n",
              "        vertical-align: middle;\n",
              "    }\n",
              "\n",
              "    .dataframe tbody tr th {\n",
              "        vertical-align: top;\n",
              "    }\n",
              "\n",
              "    .dataframe thead th {\n",
              "        text-align: right;\n",
              "    }\n",
              "</style>\n",
              "<table border=\"1\" class=\"dataframe\">\n",
              "  <thead>\n",
              "    <tr style=\"text-align: right;\">\n",
              "      <th></th>\n",
              "      <th>df</th>\n",
              "      <th>sum_sq</th>\n",
              "      <th>mean_sq</th>\n",
              "      <th>F</th>\n",
              "      <th>PR(&gt;F)</th>\n",
              "    </tr>\n",
              "  </thead>\n",
              "  <tbody>\n",
              "    <tr>\n",
              "      <th>Type_of_Employment</th>\n",
              "      <td>17.0</td>\n",
              "      <td>1.484590e+12</td>\n",
              "      <td>8.732882e+10</td>\n",
              "      <td>38.348876</td>\n",
              "      <td>4.354880e-126</td>\n",
              "    </tr>\n",
              "    <tr>\n",
              "      <th>Residual</th>\n",
              "      <td>29079.0</td>\n",
              "      <td>6.621928e+13</td>\n",
              "      <td>2.277220e+09</td>\n",
              "      <td>NaN</td>\n",
              "      <td>NaN</td>\n",
              "    </tr>\n",
              "  </tbody>\n",
              "</table>\n",
              "</div>"
            ],
            "text/plain": [
              "                         df        sum_sq  ...          F         PR(>F)\n",
              "Type_of_Employment     17.0  1.484590e+12  ...  38.348876  4.354880e-126\n",
              "Residual            29079.0  6.621928e+13  ...        NaN            NaN\n",
              "\n",
              "[2 rows x 5 columns]"
            ]
          },
          "metadata": {
            "tags": []
          },
          "execution_count": 51
        }
      ]
    },
    {
      "cell_type": "code",
      "metadata": {
        "colab": {
          "base_uri": "https://localhost:8080/",
          "height": 111
        },
        "id": "6bnJ6_ohyslR",
        "outputId": "ea9ad79e-b5b5-4693-e0c4-518ec67867f8"
      },
      "source": [
        "aov5"
      ],
      "execution_count": 52,
      "outputs": [
        {
          "output_type": "execute_result",
          "data": {
            "text/html": [
              "<div>\n",
              "<style scoped>\n",
              "    .dataframe tbody tr th:only-of-type {\n",
              "        vertical-align: middle;\n",
              "    }\n",
              "\n",
              "    .dataframe tbody tr th {\n",
              "        vertical-align: top;\n",
              "    }\n",
              "\n",
              "    .dataframe thead th {\n",
              "        text-align: right;\n",
              "    }\n",
              "</style>\n",
              "<table border=\"1\" class=\"dataframe\">\n",
              "  <thead>\n",
              "    <tr style=\"text-align: right;\">\n",
              "      <th></th>\n",
              "      <th>df</th>\n",
              "      <th>sum_sq</th>\n",
              "      <th>mean_sq</th>\n",
              "      <th>F</th>\n",
              "      <th>PR(&gt;F)</th>\n",
              "    </tr>\n",
              "  </thead>\n",
              "  <tbody>\n",
              "    <tr>\n",
              "      <th>Location</th>\n",
              "      <td>2.0</td>\n",
              "      <td>1.051756e+12</td>\n",
              "      <td>5.258782e+11</td>\n",
              "      <td>229.548608</td>\n",
              "      <td>1.220915e-99</td>\n",
              "    </tr>\n",
              "    <tr>\n",
              "      <th>Residual</th>\n",
              "      <td>29094.0</td>\n",
              "      <td>6.665211e+13</td>\n",
              "      <td>2.290923e+09</td>\n",
              "      <td>NaN</td>\n",
              "      <td>NaN</td>\n",
              "    </tr>\n",
              "  </tbody>\n",
              "</table>\n",
              "</div>"
            ],
            "text/plain": [
              "               df        sum_sq       mean_sq           F        PR(>F)\n",
              "Location      2.0  1.051756e+12  5.258782e+11  229.548608  1.220915e-99\n",
              "Residual  29094.0  6.665211e+13  2.290923e+09         NaN           NaN"
            ]
          },
          "metadata": {
            "tags": []
          },
          "execution_count": 52
        }
      ]
    },
    {
      "cell_type": "code",
      "metadata": {
        "colab": {
          "base_uri": "https://localhost:8080/",
          "height": 111
        },
        "id": "Yvpj6Cp1ystr",
        "outputId": "92158b84-b452-43a3-fe6a-23422bae2e48"
      },
      "source": [
        "aov6"
      ],
      "execution_count": 53,
      "outputs": [
        {
          "output_type": "execute_result",
          "data": {
            "text/html": [
              "<div>\n",
              "<style scoped>\n",
              "    .dataframe tbody tr th:only-of-type {\n",
              "        vertical-align: middle;\n",
              "    }\n",
              "\n",
              "    .dataframe tbody tr th {\n",
              "        vertical-align: top;\n",
              "    }\n",
              "\n",
              "    .dataframe thead th {\n",
              "        text-align: right;\n",
              "    }\n",
              "</style>\n",
              "<table border=\"1\" class=\"dataframe\">\n",
              "  <thead>\n",
              "    <tr style=\"text-align: right;\">\n",
              "      <th></th>\n",
              "      <th>df</th>\n",
              "      <th>sum_sq</th>\n",
              "      <th>mean_sq</th>\n",
              "      <th>F</th>\n",
              "      <th>PR(&gt;F)</th>\n",
              "    </tr>\n",
              "  </thead>\n",
              "  <tbody>\n",
              "    <tr>\n",
              "      <th>Expense_Type_1</th>\n",
              "      <td>1.0</td>\n",
              "      <td>2.013826e+11</td>\n",
              "      <td>2.013826e+11</td>\n",
              "      <td>86.800158</td>\n",
              "      <td>1.282630e-20</td>\n",
              "    </tr>\n",
              "    <tr>\n",
              "      <th>Residual</th>\n",
              "      <td>29095.0</td>\n",
              "      <td>6.750249e+13</td>\n",
              "      <td>2.320072e+09</td>\n",
              "      <td>NaN</td>\n",
              "      <td>NaN</td>\n",
              "    </tr>\n",
              "  </tbody>\n",
              "</table>\n",
              "</div>"
            ],
            "text/plain": [
              "                     df        sum_sq       mean_sq          F        PR(>F)\n",
              "Expense_Type_1      1.0  2.013826e+11  2.013826e+11  86.800158  1.282630e-20\n",
              "Residual        29095.0  6.750249e+13  2.320072e+09        NaN           NaN"
            ]
          },
          "metadata": {
            "tags": []
          },
          "execution_count": 53
        }
      ]
    },
    {
      "cell_type": "code",
      "metadata": {
        "colab": {
          "base_uri": "https://localhost:8080/",
          "height": 111
        },
        "id": "Reur6VRUys18",
        "outputId": "9f62879f-1bda-4670-cca2-9e9536286c5a"
      },
      "source": [
        "aov7"
      ],
      "execution_count": 54,
      "outputs": [
        {
          "output_type": "execute_result",
          "data": {
            "text/html": [
              "<div>\n",
              "<style scoped>\n",
              "    .dataframe tbody tr th:only-of-type {\n",
              "        vertical-align: middle;\n",
              "    }\n",
              "\n",
              "    .dataframe tbody tr th {\n",
              "        vertical-align: top;\n",
              "    }\n",
              "\n",
              "    .dataframe thead th {\n",
              "        text-align: right;\n",
              "    }\n",
              "</style>\n",
              "<table border=\"1\" class=\"dataframe\">\n",
              "  <thead>\n",
              "    <tr style=\"text-align: right;\">\n",
              "      <th></th>\n",
              "      <th>df</th>\n",
              "      <th>sum_sq</th>\n",
              "      <th>mean_sq</th>\n",
              "      <th>F</th>\n",
              "      <th>PR(&gt;F)</th>\n",
              "    </tr>\n",
              "  </thead>\n",
              "  <tbody>\n",
              "    <tr>\n",
              "      <th>Expense_Type_2</th>\n",
              "      <td>1.0</td>\n",
              "      <td>5.144541e+09</td>\n",
              "      <td>5.144541e+09</td>\n",
              "      <td>2.210979</td>\n",
              "      <td>0.137043</td>\n",
              "    </tr>\n",
              "    <tr>\n",
              "      <th>Residual</th>\n",
              "      <td>29095.0</td>\n",
              "      <td>6.769872e+13</td>\n",
              "      <td>2.326816e+09</td>\n",
              "      <td>NaN</td>\n",
              "      <td>NaN</td>\n",
              "    </tr>\n",
              "  </tbody>\n",
              "</table>\n",
              "</div>"
            ],
            "text/plain": [
              "                     df        sum_sq       mean_sq         F    PR(>F)\n",
              "Expense_Type_2      1.0  5.144541e+09  5.144541e+09  2.210979  0.137043\n",
              "Residual        29095.0  6.769872e+13  2.326816e+09       NaN       NaN"
            ]
          },
          "metadata": {
            "tags": []
          },
          "execution_count": 54
        }
      ]
    },
    {
      "cell_type": "code",
      "metadata": {
        "colab": {
          "base_uri": "https://localhost:8080/",
          "height": 111
        },
        "id": "BlxViWa4ys-m",
        "outputId": "f9f97059-54f1-4543-8f58-d2f7a5930b03"
      },
      "source": [
        "aov8"
      ],
      "execution_count": 55,
      "outputs": [
        {
          "output_type": "execute_result",
          "data": {
            "text/html": [
              "<div>\n",
              "<style scoped>\n",
              "    .dataframe tbody tr th:only-of-type {\n",
              "        vertical-align: middle;\n",
              "    }\n",
              "\n",
              "    .dataframe tbody tr th {\n",
              "        vertical-align: top;\n",
              "    }\n",
              "\n",
              "    .dataframe thead th {\n",
              "        text-align: right;\n",
              "    }\n",
              "</style>\n",
              "<table border=\"1\" class=\"dataframe\">\n",
              "  <thead>\n",
              "    <tr style=\"text-align: right;\">\n",
              "      <th></th>\n",
              "      <th>df</th>\n",
              "      <th>sum_sq</th>\n",
              "      <th>mean_sq</th>\n",
              "      <th>F</th>\n",
              "      <th>PR(&gt;F)</th>\n",
              "    </tr>\n",
              "  </thead>\n",
              "  <tbody>\n",
              "    <tr>\n",
              "      <th>Has_Active_Credit_Card</th>\n",
              "      <td>2.0</td>\n",
              "      <td>2.036281e+10</td>\n",
              "      <td>1.018141e+10</td>\n",
              "      <td>4.376514</td>\n",
              "      <td>0.012577</td>\n",
              "    </tr>\n",
              "    <tr>\n",
              "      <th>Residual</th>\n",
              "      <td>29094.0</td>\n",
              "      <td>6.768351e+13</td>\n",
              "      <td>2.326373e+09</td>\n",
              "      <td>NaN</td>\n",
              "      <td>NaN</td>\n",
              "    </tr>\n",
              "  </tbody>\n",
              "</table>\n",
              "</div>"
            ],
            "text/plain": [
              "                             df        sum_sq       mean_sq         F    PR(>F)\n",
              "Has_Active_Credit_Card      2.0  2.036281e+10  1.018141e+10  4.376514  0.012577\n",
              "Residual                29094.0  6.768351e+13  2.326373e+09       NaN       NaN"
            ]
          },
          "metadata": {
            "tags": []
          },
          "execution_count": 55
        }
      ]
    },
    {
      "cell_type": "code",
      "metadata": {
        "colab": {
          "base_uri": "https://localhost:8080/",
          "height": 111
        },
        "id": "UL-4xRtZytG3",
        "outputId": "7278f05c-3c9d-4b4d-9bd5-78ba425be050"
      },
      "source": [
        "aov9"
      ],
      "execution_count": 56,
      "outputs": [
        {
          "output_type": "execute_result",
          "data": {
            "text/html": [
              "<div>\n",
              "<style scoped>\n",
              "    .dataframe tbody tr th:only-of-type {\n",
              "        vertical-align: middle;\n",
              "    }\n",
              "\n",
              "    .dataframe tbody tr th {\n",
              "        vertical-align: top;\n",
              "    }\n",
              "\n",
              "    .dataframe thead th {\n",
              "        text-align: right;\n",
              "    }\n",
              "</style>\n",
              "<table border=\"1\" class=\"dataframe\">\n",
              "  <thead>\n",
              "    <tr style=\"text-align: right;\">\n",
              "      <th></th>\n",
              "      <th>df</th>\n",
              "      <th>sum_sq</th>\n",
              "      <th>mean_sq</th>\n",
              "      <th>F</th>\n",
              "      <th>PR(&gt;F)</th>\n",
              "    </tr>\n",
              "  </thead>\n",
              "  <tbody>\n",
              "    <tr>\n",
              "      <th>Property_Location</th>\n",
              "      <td>2.0</td>\n",
              "      <td>4.082641e+09</td>\n",
              "      <td>2.041321e+09</td>\n",
              "      <td>0.877258</td>\n",
              "      <td>0.415933</td>\n",
              "    </tr>\n",
              "    <tr>\n",
              "      <th>Residual</th>\n",
              "      <td>29094.0</td>\n",
              "      <td>6.769979e+13</td>\n",
              "      <td>2.326933e+09</td>\n",
              "      <td>NaN</td>\n",
              "      <td>NaN</td>\n",
              "    </tr>\n",
              "  </tbody>\n",
              "</table>\n",
              "</div>"
            ],
            "text/plain": [
              "                        df        sum_sq       mean_sq         F    PR(>F)\n",
              "Property_Location      2.0  4.082641e+09  2.041321e+09  0.877258  0.415933\n",
              "Residual           29094.0  6.769979e+13  2.326933e+09       NaN       NaN"
            ]
          },
          "metadata": {
            "tags": []
          },
          "execution_count": 56
        }
      ]
    },
    {
      "cell_type": "code",
      "metadata": {
        "colab": {
          "base_uri": "https://localhost:8080/",
          "height": 575
        },
        "id": "gydBgePi7QZD",
        "outputId": "d6baf12f-49f7-47c0-8c61-19056307f922"
      },
      "source": [
        "loan_training_dataset_test1.drop(['Customer_ID','Name','Has_Active_Credit_Card'], axis = 1)\n",
        "\n"
      ],
      "execution_count": 57,
      "outputs": [
        {
          "output_type": "execute_result",
          "data": {
            "text/html": [
              "<div>\n",
              "<style scoped>\n",
              "    .dataframe tbody tr th:only-of-type {\n",
              "        vertical-align: middle;\n",
              "    }\n",
              "\n",
              "    .dataframe tbody tr th {\n",
              "        vertical-align: top;\n",
              "    }\n",
              "\n",
              "    .dataframe thead th {\n",
              "        text-align: right;\n",
              "    }\n",
              "</style>\n",
              "<table border=\"1\" class=\"dataframe\">\n",
              "  <thead>\n",
              "    <tr style=\"text-align: right;\">\n",
              "      <th></th>\n",
              "      <th>Gender</th>\n",
              "      <th>Age</th>\n",
              "      <th>Income_(USD)</th>\n",
              "      <th>Income_Stability</th>\n",
              "      <th>Profession</th>\n",
              "      <th>Type_of_Employment</th>\n",
              "      <th>Location</th>\n",
              "      <th>Current_Loan_Expenses_(USD)</th>\n",
              "      <th>Expense_Type_1</th>\n",
              "      <th>Expense_Type_2</th>\n",
              "      <th>Dependents</th>\n",
              "      <th>No._of_Defaults</th>\n",
              "      <th>Property_ID</th>\n",
              "      <th>Property_Type</th>\n",
              "      <th>Property_Location</th>\n",
              "      <th>Co-Applicant</th>\n",
              "      <th>Property_Price</th>\n",
              "      <th>Loan_Sanction_Amount</th>\n",
              "    </tr>\n",
              "  </thead>\n",
              "  <tbody>\n",
              "    <tr>\n",
              "      <th>0</th>\n",
              "      <td>F</td>\n",
              "      <td>56</td>\n",
              "      <td>1933.05</td>\n",
              "      <td>Low</td>\n",
              "      <td>Working</td>\n",
              "      <td>Sales staff</td>\n",
              "      <td>Semi-Urban</td>\n",
              "      <td>241.08</td>\n",
              "      <td>N</td>\n",
              "      <td>N</td>\n",
              "      <td>3.000000</td>\n",
              "      <td>0</td>\n",
              "      <td>746</td>\n",
              "      <td>4</td>\n",
              "      <td>Rural</td>\n",
              "      <td>1</td>\n",
              "      <td>119933.46</td>\n",
              "      <td>54607.18</td>\n",
              "    </tr>\n",
              "    <tr>\n",
              "      <th>1</th>\n",
              "      <td>M</td>\n",
              "      <td>32</td>\n",
              "      <td>4952.91</td>\n",
              "      <td>Low</td>\n",
              "      <td>Working</td>\n",
              "      <td>Laborers</td>\n",
              "      <td>Semi-Urban</td>\n",
              "      <td>495.81</td>\n",
              "      <td>N</td>\n",
              "      <td>Y</td>\n",
              "      <td>1.000000</td>\n",
              "      <td>0</td>\n",
              "      <td>608</td>\n",
              "      <td>2</td>\n",
              "      <td>Rural</td>\n",
              "      <td>1</td>\n",
              "      <td>54791.00</td>\n",
              "      <td>37469.98</td>\n",
              "    </tr>\n",
              "    <tr>\n",
              "      <th>2</th>\n",
              "      <td>F</td>\n",
              "      <td>65</td>\n",
              "      <td>988.19</td>\n",
              "      <td>High</td>\n",
              "      <td>Pensioner</td>\n",
              "      <td>Laborers</td>\n",
              "      <td>Semi-Urban</td>\n",
              "      <td>171.95</td>\n",
              "      <td>N</td>\n",
              "      <td>Y</td>\n",
              "      <td>1.000000</td>\n",
              "      <td>0</td>\n",
              "      <td>546</td>\n",
              "      <td>2</td>\n",
              "      <td>Urban</td>\n",
              "      <td>0</td>\n",
              "      <td>72440.58</td>\n",
              "      <td>36474.43</td>\n",
              "    </tr>\n",
              "    <tr>\n",
              "      <th>3</th>\n",
              "      <td>F</td>\n",
              "      <td>65</td>\n",
              "      <td>2222.33</td>\n",
              "      <td>High</td>\n",
              "      <td>Pensioner</td>\n",
              "      <td>Laborers</td>\n",
              "      <td>Rural</td>\n",
              "      <td>298.54</td>\n",
              "      <td>N</td>\n",
              "      <td>Y</td>\n",
              "      <td>2.000000</td>\n",
              "      <td>1</td>\n",
              "      <td>890</td>\n",
              "      <td>2</td>\n",
              "      <td>Semi-Urban</td>\n",
              "      <td>1</td>\n",
              "      <td>121441.51</td>\n",
              "      <td>56040.54</td>\n",
              "    </tr>\n",
              "    <tr>\n",
              "      <th>4</th>\n",
              "      <td>F</td>\n",
              "      <td>31</td>\n",
              "      <td>2614.77</td>\n",
              "      <td>Low</td>\n",
              "      <td>Working</td>\n",
              "      <td>High skill tech staff</td>\n",
              "      <td>Semi-Urban</td>\n",
              "      <td>491.41</td>\n",
              "      <td>N</td>\n",
              "      <td>Y</td>\n",
              "      <td>2.254443</td>\n",
              "      <td>1</td>\n",
              "      <td>715</td>\n",
              "      <td>4</td>\n",
              "      <td>Semi-Urban</td>\n",
              "      <td>1</td>\n",
              "      <td>208567.91</td>\n",
              "      <td>74008.28</td>\n",
              "    </tr>\n",
              "    <tr>\n",
              "      <th>...</th>\n",
              "      <td>...</td>\n",
              "      <td>...</td>\n",
              "      <td>...</td>\n",
              "      <td>...</td>\n",
              "      <td>...</td>\n",
              "      <td>...</td>\n",
              "      <td>...</td>\n",
              "      <td>...</td>\n",
              "      <td>...</td>\n",
              "      <td>...</td>\n",
              "      <td>...</td>\n",
              "      <td>...</td>\n",
              "      <td>...</td>\n",
              "      <td>...</td>\n",
              "      <td>...</td>\n",
              "      <td>...</td>\n",
              "      <td>...</td>\n",
              "      <td>...</td>\n",
              "    </tr>\n",
              "    <tr>\n",
              "      <th>29995</th>\n",
              "      <td>M</td>\n",
              "      <td>38</td>\n",
              "      <td>4969.41</td>\n",
              "      <td>Low</td>\n",
              "      <td>Commercial associate</td>\n",
              "      <td>Managers</td>\n",
              "      <td>Urban</td>\n",
              "      <td>722.34</td>\n",
              "      <td>Y</td>\n",
              "      <td>Y</td>\n",
              "      <td>2.000000</td>\n",
              "      <td>0</td>\n",
              "      <td>566</td>\n",
              "      <td>4</td>\n",
              "      <td>Urban</td>\n",
              "      <td>1</td>\n",
              "      <td>111096.56</td>\n",
              "      <td>68992.11</td>\n",
              "    </tr>\n",
              "    <tr>\n",
              "      <th>29996</th>\n",
              "      <td>M</td>\n",
              "      <td>20</td>\n",
              "      <td>1606.88</td>\n",
              "      <td>Low</td>\n",
              "      <td>Working</td>\n",
              "      <td>Laborers</td>\n",
              "      <td>Semi-Urban</td>\n",
              "      <td>253.04</td>\n",
              "      <td>N</td>\n",
              "      <td>N</td>\n",
              "      <td>3.000000</td>\n",
              "      <td>0</td>\n",
              "      <td>175</td>\n",
              "      <td>3</td>\n",
              "      <td>Urban</td>\n",
              "      <td>1</td>\n",
              "      <td>73453.94</td>\n",
              "      <td>46616.60</td>\n",
              "    </tr>\n",
              "    <tr>\n",
              "      <th>29997</th>\n",
              "      <td>F</td>\n",
              "      <td>49</td>\n",
              "      <td>2222.33</td>\n",
              "      <td>Low</td>\n",
              "      <td>Working</td>\n",
              "      <td>Sales staff</td>\n",
              "      <td>Urban</td>\n",
              "      <td>583.11</td>\n",
              "      <td>N</td>\n",
              "      <td>Y</td>\n",
              "      <td>2.254443</td>\n",
              "      <td>0</td>\n",
              "      <td>959</td>\n",
              "      <td>1</td>\n",
              "      <td>Rural</td>\n",
              "      <td>1</td>\n",
              "      <td>102108.02</td>\n",
              "      <td>61057.56</td>\n",
              "    </tr>\n",
              "    <tr>\n",
              "      <th>29998</th>\n",
              "      <td>M</td>\n",
              "      <td>38</td>\n",
              "      <td>2417.71</td>\n",
              "      <td>Low</td>\n",
              "      <td>Working</td>\n",
              "      <td>Security staff</td>\n",
              "      <td>Semi-Urban</td>\n",
              "      <td>378.29</td>\n",
              "      <td>N</td>\n",
              "      <td>Y</td>\n",
              "      <td>3.000000</td>\n",
              "      <td>1</td>\n",
              "      <td>375</td>\n",
              "      <td>4</td>\n",
              "      <td>Urban</td>\n",
              "      <td>1</td>\n",
              "      <td>168194.47</td>\n",
              "      <td>99766.87</td>\n",
              "    </tr>\n",
              "    <tr>\n",
              "      <th>29999</th>\n",
              "      <td>F</td>\n",
              "      <td>63</td>\n",
              "      <td>3068.24</td>\n",
              "      <td>High</td>\n",
              "      <td>Pensioner</td>\n",
              "      <td>Laborers</td>\n",
              "      <td>Rural</td>\n",
              "      <td>693.94</td>\n",
              "      <td>N</td>\n",
              "      <td>Y</td>\n",
              "      <td>1.000000</td>\n",
              "      <td>0</td>\n",
              "      <td>344</td>\n",
              "      <td>3</td>\n",
              "      <td>Rural</td>\n",
              "      <td>1</td>\n",
              "      <td>194512.60</td>\n",
              "      <td>117217.90</td>\n",
              "    </tr>\n",
              "  </tbody>\n",
              "</table>\n",
              "<p>29097 rows × 18 columns</p>\n",
              "</div>"
            ],
            "text/plain": [
              "      Gender  Age  ...  Property_Price Loan_Sanction_Amount\n",
              "0          F   56  ...       119933.46             54607.18\n",
              "1          M   32  ...        54791.00             37469.98\n",
              "2          F   65  ...        72440.58             36474.43\n",
              "3          F   65  ...       121441.51             56040.54\n",
              "4          F   31  ...       208567.91             74008.28\n",
              "...      ...  ...  ...             ...                  ...\n",
              "29995      M   38  ...       111096.56             68992.11\n",
              "29996      M   20  ...        73453.94             46616.60\n",
              "29997      F   49  ...       102108.02             61057.56\n",
              "29998      M   38  ...       168194.47             99766.87\n",
              "29999      F   63  ...       194512.60            117217.90\n",
              "\n",
              "[29097 rows x 18 columns]"
            ]
          },
          "metadata": {
            "tags": []
          },
          "execution_count": 57
        }
      ]
    },
    {
      "cell_type": "code",
      "metadata": {
        "colab": {
          "base_uri": "https://localhost:8080/",
          "height": 609
        },
        "id": "6UTpJB4WNe_b",
        "outputId": "231819ce-7faa-4254-ad16-bb093effc9fc"
      },
      "source": [
        "loan_training_dataset_test1= loan_training_dataset_test1.rename(columns = {\"Loan_Sanction_Amount_(USD)\":\"Loan_Sanction_Amount\"})\n",
        "loan_training_dataset_test1"
      ],
      "execution_count": 58,
      "outputs": [
        {
          "output_type": "execute_result",
          "data": {
            "text/html": [
              "<div>\n",
              "<style scoped>\n",
              "    .dataframe tbody tr th:only-of-type {\n",
              "        vertical-align: middle;\n",
              "    }\n",
              "\n",
              "    .dataframe tbody tr th {\n",
              "        vertical-align: top;\n",
              "    }\n",
              "\n",
              "    .dataframe thead th {\n",
              "        text-align: right;\n",
              "    }\n",
              "</style>\n",
              "<table border=\"1\" class=\"dataframe\">\n",
              "  <thead>\n",
              "    <tr style=\"text-align: right;\">\n",
              "      <th></th>\n",
              "      <th>Customer_ID</th>\n",
              "      <th>Name</th>\n",
              "      <th>Gender</th>\n",
              "      <th>Age</th>\n",
              "      <th>Income_(USD)</th>\n",
              "      <th>Income_Stability</th>\n",
              "      <th>Profession</th>\n",
              "      <th>Type_of_Employment</th>\n",
              "      <th>Location</th>\n",
              "      <th>Current_Loan_Expenses_(USD)</th>\n",
              "      <th>Expense_Type_1</th>\n",
              "      <th>Expense_Type_2</th>\n",
              "      <th>Dependents</th>\n",
              "      <th>No._of_Defaults</th>\n",
              "      <th>Has_Active_Credit_Card</th>\n",
              "      <th>Property_ID</th>\n",
              "      <th>Property_Type</th>\n",
              "      <th>Property_Location</th>\n",
              "      <th>Co-Applicant</th>\n",
              "      <th>Property_Price</th>\n",
              "      <th>Loan_Sanction_Amount</th>\n",
              "    </tr>\n",
              "  </thead>\n",
              "  <tbody>\n",
              "    <tr>\n",
              "      <th>0</th>\n",
              "      <td>C-36995</td>\n",
              "      <td>Frederica Shealy</td>\n",
              "      <td>F</td>\n",
              "      <td>56</td>\n",
              "      <td>1933.05</td>\n",
              "      <td>Low</td>\n",
              "      <td>Working</td>\n",
              "      <td>Sales staff</td>\n",
              "      <td>Semi-Urban</td>\n",
              "      <td>241.08</td>\n",
              "      <td>N</td>\n",
              "      <td>N</td>\n",
              "      <td>3.000000</td>\n",
              "      <td>0</td>\n",
              "      <td>Active</td>\n",
              "      <td>746</td>\n",
              "      <td>4</td>\n",
              "      <td>Rural</td>\n",
              "      <td>1</td>\n",
              "      <td>119933.46</td>\n",
              "      <td>54607.18</td>\n",
              "    </tr>\n",
              "    <tr>\n",
              "      <th>1</th>\n",
              "      <td>C-33999</td>\n",
              "      <td>America Calderone</td>\n",
              "      <td>M</td>\n",
              "      <td>32</td>\n",
              "      <td>4952.91</td>\n",
              "      <td>Low</td>\n",
              "      <td>Working</td>\n",
              "      <td>Laborers</td>\n",
              "      <td>Semi-Urban</td>\n",
              "      <td>495.81</td>\n",
              "      <td>N</td>\n",
              "      <td>Y</td>\n",
              "      <td>1.000000</td>\n",
              "      <td>0</td>\n",
              "      <td>Unpossessed</td>\n",
              "      <td>608</td>\n",
              "      <td>2</td>\n",
              "      <td>Rural</td>\n",
              "      <td>1</td>\n",
              "      <td>54791.00</td>\n",
              "      <td>37469.98</td>\n",
              "    </tr>\n",
              "    <tr>\n",
              "      <th>2</th>\n",
              "      <td>C-3770</td>\n",
              "      <td>Rosetta Verne</td>\n",
              "      <td>F</td>\n",
              "      <td>65</td>\n",
              "      <td>988.19</td>\n",
              "      <td>High</td>\n",
              "      <td>Pensioner</td>\n",
              "      <td>Laborers</td>\n",
              "      <td>Semi-Urban</td>\n",
              "      <td>171.95</td>\n",
              "      <td>N</td>\n",
              "      <td>Y</td>\n",
              "      <td>1.000000</td>\n",
              "      <td>0</td>\n",
              "      <td>Unpossessed</td>\n",
              "      <td>546</td>\n",
              "      <td>2</td>\n",
              "      <td>Urban</td>\n",
              "      <td>0</td>\n",
              "      <td>72440.58</td>\n",
              "      <td>36474.43</td>\n",
              "    </tr>\n",
              "    <tr>\n",
              "      <th>3</th>\n",
              "      <td>C-26480</td>\n",
              "      <td>Zoe Chitty</td>\n",
              "      <td>F</td>\n",
              "      <td>65</td>\n",
              "      <td>2222.33</td>\n",
              "      <td>High</td>\n",
              "      <td>Pensioner</td>\n",
              "      <td>Laborers</td>\n",
              "      <td>Rural</td>\n",
              "      <td>298.54</td>\n",
              "      <td>N</td>\n",
              "      <td>Y</td>\n",
              "      <td>2.000000</td>\n",
              "      <td>1</td>\n",
              "      <td>Unpossessed</td>\n",
              "      <td>890</td>\n",
              "      <td>2</td>\n",
              "      <td>Semi-Urban</td>\n",
              "      <td>1</td>\n",
              "      <td>121441.51</td>\n",
              "      <td>56040.54</td>\n",
              "    </tr>\n",
              "    <tr>\n",
              "      <th>4</th>\n",
              "      <td>C-23459</td>\n",
              "      <td>Afton Venema</td>\n",
              "      <td>F</td>\n",
              "      <td>31</td>\n",
              "      <td>2614.77</td>\n",
              "      <td>Low</td>\n",
              "      <td>Working</td>\n",
              "      <td>High skill tech staff</td>\n",
              "      <td>Semi-Urban</td>\n",
              "      <td>491.41</td>\n",
              "      <td>N</td>\n",
              "      <td>Y</td>\n",
              "      <td>2.254443</td>\n",
              "      <td>1</td>\n",
              "      <td>Active</td>\n",
              "      <td>715</td>\n",
              "      <td>4</td>\n",
              "      <td>Semi-Urban</td>\n",
              "      <td>1</td>\n",
              "      <td>208567.91</td>\n",
              "      <td>74008.28</td>\n",
              "    </tr>\n",
              "    <tr>\n",
              "      <th>...</th>\n",
              "      <td>...</td>\n",
              "      <td>...</td>\n",
              "      <td>...</td>\n",
              "      <td>...</td>\n",
              "      <td>...</td>\n",
              "      <td>...</td>\n",
              "      <td>...</td>\n",
              "      <td>...</td>\n",
              "      <td>...</td>\n",
              "      <td>...</td>\n",
              "      <td>...</td>\n",
              "      <td>...</td>\n",
              "      <td>...</td>\n",
              "      <td>...</td>\n",
              "      <td>...</td>\n",
              "      <td>...</td>\n",
              "      <td>...</td>\n",
              "      <td>...</td>\n",
              "      <td>...</td>\n",
              "      <td>...</td>\n",
              "      <td>...</td>\n",
              "    </tr>\n",
              "    <tr>\n",
              "      <th>29995</th>\n",
              "      <td>C-43723</td>\n",
              "      <td>Angelyn Clevenger</td>\n",
              "      <td>M</td>\n",
              "      <td>38</td>\n",
              "      <td>4969.41</td>\n",
              "      <td>Low</td>\n",
              "      <td>Commercial associate</td>\n",
              "      <td>Managers</td>\n",
              "      <td>Urban</td>\n",
              "      <td>722.34</td>\n",
              "      <td>Y</td>\n",
              "      <td>Y</td>\n",
              "      <td>2.000000</td>\n",
              "      <td>0</td>\n",
              "      <td>Unpossessed</td>\n",
              "      <td>566</td>\n",
              "      <td>4</td>\n",
              "      <td>Urban</td>\n",
              "      <td>1</td>\n",
              "      <td>111096.56</td>\n",
              "      <td>68992.11</td>\n",
              "    </tr>\n",
              "    <tr>\n",
              "      <th>29996</th>\n",
              "      <td>C-32511</td>\n",
              "      <td>Silas Slaugh</td>\n",
              "      <td>M</td>\n",
              "      <td>20</td>\n",
              "      <td>1606.88</td>\n",
              "      <td>Low</td>\n",
              "      <td>Working</td>\n",
              "      <td>Laborers</td>\n",
              "      <td>Semi-Urban</td>\n",
              "      <td>253.04</td>\n",
              "      <td>N</td>\n",
              "      <td>N</td>\n",
              "      <td>3.000000</td>\n",
              "      <td>0</td>\n",
              "      <td>Inactive</td>\n",
              "      <td>175</td>\n",
              "      <td>3</td>\n",
              "      <td>Urban</td>\n",
              "      <td>1</td>\n",
              "      <td>73453.94</td>\n",
              "      <td>46616.60</td>\n",
              "    </tr>\n",
              "    <tr>\n",
              "      <th>29997</th>\n",
              "      <td>C-5192</td>\n",
              "      <td>Carmelo Lone</td>\n",
              "      <td>F</td>\n",
              "      <td>49</td>\n",
              "      <td>2222.33</td>\n",
              "      <td>Low</td>\n",
              "      <td>Working</td>\n",
              "      <td>Sales staff</td>\n",
              "      <td>Urban</td>\n",
              "      <td>583.11</td>\n",
              "      <td>N</td>\n",
              "      <td>Y</td>\n",
              "      <td>2.254443</td>\n",
              "      <td>0</td>\n",
              "      <td>Active</td>\n",
              "      <td>959</td>\n",
              "      <td>1</td>\n",
              "      <td>Rural</td>\n",
              "      <td>1</td>\n",
              "      <td>102108.02</td>\n",
              "      <td>61057.56</td>\n",
              "    </tr>\n",
              "    <tr>\n",
              "      <th>29998</th>\n",
              "      <td>C-12172</td>\n",
              "      <td>Carolann Osby</td>\n",
              "      <td>M</td>\n",
              "      <td>38</td>\n",
              "      <td>2417.71</td>\n",
              "      <td>Low</td>\n",
              "      <td>Working</td>\n",
              "      <td>Security staff</td>\n",
              "      <td>Semi-Urban</td>\n",
              "      <td>378.29</td>\n",
              "      <td>N</td>\n",
              "      <td>Y</td>\n",
              "      <td>3.000000</td>\n",
              "      <td>1</td>\n",
              "      <td>Unpossessed</td>\n",
              "      <td>375</td>\n",
              "      <td>4</td>\n",
              "      <td>Urban</td>\n",
              "      <td>1</td>\n",
              "      <td>168194.47</td>\n",
              "      <td>99766.87</td>\n",
              "    </tr>\n",
              "    <tr>\n",
              "      <th>29999</th>\n",
              "      <td>C-33003</td>\n",
              "      <td>Bridget Garibaldi</td>\n",
              "      <td>F</td>\n",
              "      <td>63</td>\n",
              "      <td>3068.24</td>\n",
              "      <td>High</td>\n",
              "      <td>Pensioner</td>\n",
              "      <td>Laborers</td>\n",
              "      <td>Rural</td>\n",
              "      <td>693.94</td>\n",
              "      <td>N</td>\n",
              "      <td>Y</td>\n",
              "      <td>1.000000</td>\n",
              "      <td>0</td>\n",
              "      <td>Active</td>\n",
              "      <td>344</td>\n",
              "      <td>3</td>\n",
              "      <td>Rural</td>\n",
              "      <td>1</td>\n",
              "      <td>194512.60</td>\n",
              "      <td>117217.90</td>\n",
              "    </tr>\n",
              "  </tbody>\n",
              "</table>\n",
              "<p>29097 rows × 21 columns</p>\n",
              "</div>"
            ],
            "text/plain": [
              "      Customer_ID               Name  ... Property_Price  Loan_Sanction_Amount\n",
              "0         C-36995   Frederica Shealy  ...      119933.46              54607.18\n",
              "1         C-33999  America Calderone  ...       54791.00              37469.98\n",
              "2          C-3770      Rosetta Verne  ...       72440.58              36474.43\n",
              "3         C-26480         Zoe Chitty  ...      121441.51              56040.54\n",
              "4         C-23459       Afton Venema  ...      208567.91              74008.28\n",
              "...           ...                ...  ...            ...                   ...\n",
              "29995     C-43723  Angelyn Clevenger  ...      111096.56              68992.11\n",
              "29996     C-32511       Silas Slaugh  ...       73453.94              46616.60\n",
              "29997      C-5192       Carmelo Lone  ...      102108.02              61057.56\n",
              "29998     C-12172      Carolann Osby  ...      168194.47              99766.87\n",
              "29999     C-33003  Bridget Garibaldi  ...      194512.60             117217.90\n",
              "\n",
              "[29097 rows x 21 columns]"
            ]
          },
          "metadata": {
            "tags": []
          },
          "execution_count": 58
        }
      ]
    },
    {
      "cell_type": "code",
      "metadata": {
        "id": "ffoEWuphQaff"
      },
      "source": [
        "#Iterating through all columns\n",
        "# Create an empty dictionary ordinal_enc_dict\n",
        "from sklearn.preprocessing import OrdinalEncoder\n",
        "\n",
        "ordinal_enc_dict = {}\n",
        "\n",
        "for col_name in  loan_training_dataset_test1.select_dtypes(exclude=[np.number]):\n",
        "    # Create Ordinal encoder for col\n",
        "    ordinal_enc_dict[col_name] = OrdinalEncoder()\n",
        "    col = loan_training_dataset_test1[col_name]\n",
        "    \n",
        "    # Select non-null values of col\n",
        "    col_not_null = col[col.notnull()]\n",
        "    reshaped_vals = col_not_null.values.reshape(-1, 1)\n",
        "    encoded_vals = ordinal_enc_dict[col_name].fit_transform(reshaped_vals)\n",
        "    \n",
        "    # Store the values to non-null values of the column in users\n",
        "    loan_training_dataset_test1.loc[col.notnull(), col_name] = np.squeeze(encoded_vals)\n"
      ],
      "execution_count": 59,
      "outputs": []
    },
    {
      "cell_type": "code",
      "metadata": {
        "colab": {
          "base_uri": "https://localhost:8080/"
        },
        "id": "bMK3TSWPFuSX",
        "outputId": "5e3c1601-db8d-4426-93a4-702f1da15ccc"
      },
      "source": [
        "#Modelling\n",
        "from sklearn import linear_model\n",
        "reg=linear_model.LinearRegression()\n",
        "reg.fit(loan_training_dataset_test1[['Gender','Age','Income_(USD)','Income_Stability','Profession','Type_of_Employment','Location','Current_Loan_Expenses_(USD)','Expense_Type_1','Expense_Type_2','Dependents','No._of_Defaults','Property_ID','Property_Type','Property_Location','Co-Applicant','Property_Price']],loan_training_dataset_test1.Loan_Sanction_Amount)"
      ],
      "execution_count": 60,
      "outputs": [
        {
          "output_type": "execute_result",
          "data": {
            "text/plain": [
              "LinearRegression(copy_X=True, fit_intercept=True, n_jobs=None, normalize=False)"
            ]
          },
          "metadata": {
            "tags": []
          },
          "execution_count": 60
        }
      ]
    },
    {
      "cell_type": "code",
      "metadata": {
        "colab": {
          "base_uri": "https://localhost:8080/"
        },
        "id": "BCiT6bWQKgtC",
        "outputId": "ed669f29-aa90-4377-a3e6-8b488c5b918a"
      },
      "source": [
        "#Co-efficients\n",
        "reg.coef_"
      ],
      "execution_count": 61,
      "outputs": [
        {
          "output_type": "execute_result",
          "data": {
            "text/plain": [
              "array([-1.41193658e+02, -2.67391675e+01,  2.06074720e-03, -8.43828907e+03,\n",
              "       -3.65013872e+02, -1.30739171e+02,  2.38380155e+03,  1.35722311e+01,\n",
              "       -7.28105000e+02,  2.22914378e+03, -4.42645352e+02, -7.09151917e+02,\n",
              "       -2.47033058e-01, -9.10699568e+01,  2.58172269e+02, -7.16579783e+00,\n",
              "        3.29377119e-01])"
            ]
          },
          "metadata": {
            "tags": []
          },
          "execution_count": 61
        }
      ]
    },
    {
      "cell_type": "code",
      "metadata": {
        "colab": {
          "base_uri": "https://localhost:8080/"
        },
        "id": "524sFovYSa_k",
        "outputId": "d0ba93c2-bd61-4074-de11-f03d5a772854"
      },
      "source": [
        "#intercept value\n",
        "reg.intercept_"
      ],
      "execution_count": 62,
      "outputs": [
        {
          "output_type": "execute_result",
          "data": {
            "text/plain": [
              "8043.804303452394"
            ]
          },
          "metadata": {
            "tags": []
          },
          "execution_count": 62
        }
      ]
    },
    {
      "cell_type": "code",
      "metadata": {
        "colab": {
          "base_uri": "https://localhost:8080/"
        },
        "id": "4ekSWplES2DI",
        "outputId": "3cd573ab-5359-426c-cda4-c29803fa78b0"
      },
      "source": [
        "reg.predict([[1.0,32,4952.91,1.0,7.0,8.0,1.0,495.81,0.0,1.0,1.000000,0,608,2,0.0,1,54791.00]])"
      ],
      "execution_count": 63,
      "outputs": [
        {
          "output_type": "execute_result",
          "data": {
            "text/plain": [
              "array([23624.81224187])"
            ]
          },
          "metadata": {
            "tags": []
          },
          "execution_count": 63
        }
      ]
    },
    {
      "cell_type": "code",
      "metadata": {
        "colab": {
          "base_uri": "https://localhost:8080/"
        },
        "id": "7viNQYeLY9wJ",
        "outputId": "daf990a4-72aa-43cf-9284-ea1bf0223cfa"
      },
      "source": [
        "reg.predict([[0.0,65,2222.33,0.0,3.0,8.0,0.0,298.54,0.0,1.0,2.000000,1,890,2,1.0,1,121441.51]])"
      ],
      "execution_count": 67,
      "outputs": [
        {
          "output_type": "execute_result",
          "data": {
            "text/plain": [
              "array([48704.99993585])"
            ]
          },
          "metadata": {
            "tags": []
          },
          "execution_count": 67
        }
      ]
    }
  ]
}